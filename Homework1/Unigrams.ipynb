{
 "cells": [
  {
   "cell_type": "markdown",
   "source": [
    "## 4.) Write a program to compute unsmoothed unigrams and bigrams.\n",
    "### a.) Use any language you want, but do not use any libraries other than math/probability ones (Java.Math, numpy, etc\n",
    "    - This means you cannot use SpaCy or NLTK\n",
    "### b.) Run your n-gram program on two different small corpora of your choice. Try and make them from different genres (i.e. a news article and a song lyric)\n",
    "    - Unigrams is just the list of tokens\n",
    "    - Bigrams is the list of two token sequences\n",
    "### c.) Now compare the statistics of the two corpora, what are the differences in the most common unigrams between the two? How about interesting differences in bigrams?\n",
    "    - Going to need to compute the counts of which bigram and which unigram is most common\n",
    "### d.) Add an option to your program to generate random sentences.\n",
    "    - Going to need to compute probabilities and add a variance param so that we do not get the same sentence over and over"
   ],
   "metadata": {
    "collapsed": false
   }
  },
  {
   "cell_type": "code",
   "execution_count": 1,
   "metadata": {
    "collapsed": true
   },
   "outputs": [],
   "source": [
    "from pathlib import Path\n",
    "from collections import Counter\n",
    "import pandas as pd\n",
    "import random\n",
    "from tqdm import tqdm"
   ]
  },
  {
   "cell_type": "code",
   "execution_count": 2,
   "outputs": [],
   "source": [
    "file1 = \"The_Boy_Travellers_in_the_Far_East_Part_Third_by_Thomas_Wallace_Knox.txt\"\n",
    "file2 = \"The_Cathedrals_of_Great_Britain_Their_History_and_Architecture_by_PH_Ditchfield.txt\""
   ],
   "metadata": {
    "collapsed": false,
    "pycharm": {
     "name": "#%%\n"
    }
   }
  },
  {
   "cell_type": "code",
   "execution_count": 3,
   "outputs": [],
   "source": [
    "# # method to check what bigrams look like\n",
    "# # https://stackoverflow.com/a/32442106\n",
    "# import nltk\n",
    "# from nltk import ngrams\n",
    "# text1 = Path(file1).read_text()\n",
    "# token = nltk.word_tokenize(text1)\n",
    "# bigrams = ngrams(token, 2)\n",
    "# frequencies1 = Counter(bigrams)\n",
    "# frequencies1"
   ],
   "metadata": {
    "collapsed": false,
    "pycharm": {
     "name": "#%%\n"
    }
   }
  },
  {
   "cell_type": "code",
   "execution_count": 4,
   "outputs": [],
   "source": [
    "# https://stackoverflow.com/a/31505798\n",
    "# -*- coding: utf-8 -*-\n",
    "import re\n",
    "alphabets= \"([A-Za-z])\"\n",
    "# prefixes = \"(Mr|St|Mrs|Ms|Dr)[.]\"\n",
    "### ADDED IN FROM COMMENTS\n",
    "prefixes = \"(Mr|St|Mrs|Ms|Dr|Prof|Capt|Cpt|Lt|Mt)[.]\"\n",
    "### END\n",
    "suffixes = \"(Inc|Ltd|Jr|Sr|Co)\"\n",
    "starters = \"(Mr|Mrs|Ms|Dr|Prof|Capt|Cpt|Lt|He\\s|She\\s|It\\s|They\\s|Their\\s|Our\\s|We\\s|But\\s|However\\s|That\\s|This\\s|Wherever)\"\n",
    "acronyms = \"([A-Z][.][A-Z][.](?:[A-Z][.])?)\"\n",
    "websites = \"[.](com|net|org|io|gov|edu|me)\"\n",
    "digits = \"([0-9])\"\n",
    "\n",
    "def split_into_sentences(text):\n",
    "    text = \" \" + text + \"  \"\n",
    "    text = text.replace(\"\\n\",\" \")\n",
    "    text = re.sub(prefixes,\"\\\\1<prd>\",text)\n",
    "    text = re.sub(websites,\"<prd>\\\\1\",text)\n",
    "    text = re.sub(digits + \"[.]\" + digits,\"\\\\1<prd>\\\\2\",text)\n",
    "    if \"...\" in text: text = text.replace(\"...\",\"<prd><prd><prd>\")\n",
    "    if \"Ph.D\" in text: text = text.replace(\"Ph.D.\",\"Ph<prd>D<prd>\")\n",
    "    text = re.sub(\"\\s\" + alphabets + \"[.] \",\" \\\\1<prd> \",text)\n",
    "    text = re.sub(acronyms+\" \"+starters,\"\\\\1<stop> \\\\2\",text)\n",
    "    text = re.sub(alphabets + \"[.]\" + alphabets + \"[.]\" + alphabets + \"[.]\",\"\\\\1<prd>\\\\2<prd>\\\\3<prd>\",text)\n",
    "    text = re.sub(alphabets + \"[.]\" + alphabets + \"[.]\",\"\\\\1<prd>\\\\2<prd>\",text)\n",
    "    text = re.sub(\" \"+suffixes+\"[.] \"+starters,\" \\\\1<stop> \\\\2\",text)\n",
    "    text = re.sub(\" \"+suffixes+\"[.]\",\" \\\\1<prd>\",text)\n",
    "    text = re.sub(\" \" + alphabets + \"[.]\",\" \\\\1<prd>\",text)\n",
    "    if \"”\" in text: text = text.replace(\".”\",\"”.\")\n",
    "    if \"\\\"\" in text: text = text.replace(\".\\\"\",\"\\\".\")\n",
    "    if \"!\" in text: text = text.replace(\"!\\\"\",\"\\\"!\")\n",
    "    if \"?\" in text: text = text.replace(\"?\\\"\",\"\\\"?\")\n",
    "    text = text.replace(\".\",\".<stop>\")\n",
    "    text = text.replace(\"?\",\"?<stop>\")\n",
    "    text = text.replace(\"!\",\"!<stop>\")\n",
    "    text = text.replace(\"<prd>\",\".\")\n",
    "    ### ADDED IN FROM COMMENTS\n",
    "    if \"...\" in text: text = text.replace(\"...\",\"<prd><prd><prd>\")\n",
    "    if \"e.g.\" in text: text = text.replace(\"e.g.\",\"e<prd>g<prd>\")\n",
    "    if \"i.e.\" in text: text = text.replace(\"i.e.\",\"i<prd>e<prd>\")\n",
    "    ### END\n",
    "    sentences = text.split(\"<stop>\")\n",
    "    sentences = sentences[:-1]\n",
    "    sentences = [s.strip() for s in sentences]\n",
    "    return sentences"
   ],
   "metadata": {
    "collapsed": false,
    "pycharm": {
     "name": "#%%\n"
    }
   }
  },
  {
   "cell_type": "code",
   "execution_count": 5,
   "outputs": [],
   "source": [
    "start_of_sent_token = \"<S>\"\n",
    "end_of_sent_token = \"</S>\"\n",
    "\n",
    "def compute_ngram(filename: str):\n",
    "    text = Path(filename).read_text()\n",
    "    sents = split_into_sentences(text)\n",
    "\n",
    "    tokens = []\n",
    "    for sent in sents:\n",
    "        sent_tokens = list(sent.split())\n",
    "        sent_tokens.insert(0, start_of_sent_token)\n",
    "        sent_tokens.insert(len(sent_tokens), end_of_sent_token)\n",
    "        tokens += sent_tokens\n",
    "    unigrams = Counter(tokens).most_common()\n",
    "\n",
    "    # probability = n occurances of a given word / total number of all words in the data (not unique)\n",
    "    total_tokens = len(tokens)\n",
    "    # unigram_df = pd.DataFrame(columns=[\"unigram\", \"count\", \"probability\"])  # slow\n",
    "    unigram_probabilities = {}\n",
    "    unigram_counts = {}\n",
    "    unigram_list = []\n",
    "    for unigram, count in unigrams:\n",
    "        p = count / total_tokens\n",
    "        # unigram_df = pd.concat([unigram_df, pd.DataFrame.from_records([{\"unigram\": unigram, \"count\": count, \"probability\": p}])])  # slow\n",
    "        unigram_probabilities[unigram] = p\n",
    "        unigram_counts[unigram] = count\n",
    "        unigram_list += [(unigram, count, p)]\n",
    "    unigram_df = pd.DataFrame(unigram_list, columns=['unigram', 'count', 'probability'])\n",
    "\n",
    "    bigram_tokens = []\n",
    "    for idx in range(1, len(tokens), 1):\n",
    "        given = tokens[idx - 1]\n",
    "        word = tokens[idx]\n",
    "        bigram = (given, word)\n",
    "        bigram_tokens.append(bigram)\n",
    "    bigrams = Counter(bigram_tokens).most_common()\n",
    "\n",
    "    # bigram_probabilities = []\n",
    "    bigram_list = []\n",
    "    for bigram, count in bigrams:\n",
    "        given, token = bigram\n",
    "        count_given_unigram = unigram_counts[given]\n",
    "        # count_given_unigram = unigram_df[unigram_df['unigram'] == bigram[0]]['count']  # slow\n",
    "        probability = count / count_given_unigram\n",
    "        # bigram_probabilities += [(bigram, probability)]\n",
    "        bigram_list += [(bigram, token, given, count, probability)]\n",
    "\n",
    "\n",
    "    bigram_df = pd.DataFrame(bigram_list, columns=['bigram', 'token', 'given', 'count', 'probability'])\n",
    "    # print(unigram_df.head())\n",
    "    return unigram_df, bigram_df"
   ],
   "metadata": {
    "collapsed": false,
    "pycharm": {
     "name": "#%%\n"
    }
   }
  },
  {
   "cell_type": "code",
   "execution_count": 6,
   "outputs": [],
   "source": [
    "unigram_df1, bigram_df1 = compute_ngram(file1)\n",
    "unigram_df2, bigram_df2 = compute_ngram(file2)"
   ],
   "metadata": {
    "collapsed": false,
    "pycharm": {
     "name": "#%%\n"
    }
   }
  },
  {
   "cell_type": "code",
   "execution_count": 7,
   "outputs": [
    {
     "data": {
      "text/plain": "             unigram  count  probability\n0                the  11060     0.072095\n1                <S>   5835     0.038036\n2               </S>   5835     0.038036\n3                 of   5736     0.037390\n4                and   5560     0.036243\n...              ...    ...          ...\n18422  Gutenberg-tm,      1     0.000007\n18423      subscribe      1     0.000007\n18424          email      1     0.000007\n18425     newsletter      1     0.000007\n18426        eBooks.      1     0.000007\n\n[18427 rows x 3 columns]",
      "text/html": "<div>\n<style scoped>\n    .dataframe tbody tr th:only-of-type {\n        vertical-align: middle;\n    }\n\n    .dataframe tbody tr th {\n        vertical-align: top;\n    }\n\n    .dataframe thead th {\n        text-align: right;\n    }\n</style>\n<table border=\"1\" class=\"dataframe\">\n  <thead>\n    <tr style=\"text-align: right;\">\n      <th></th>\n      <th>unigram</th>\n      <th>count</th>\n      <th>probability</th>\n    </tr>\n  </thead>\n  <tbody>\n    <tr>\n      <th>0</th>\n      <td>the</td>\n      <td>11060</td>\n      <td>0.072095</td>\n    </tr>\n    <tr>\n      <th>1</th>\n      <td>&lt;S&gt;</td>\n      <td>5835</td>\n      <td>0.038036</td>\n    </tr>\n    <tr>\n      <th>2</th>\n      <td>&lt;/S&gt;</td>\n      <td>5835</td>\n      <td>0.038036</td>\n    </tr>\n    <tr>\n      <th>3</th>\n      <td>of</td>\n      <td>5736</td>\n      <td>0.037390</td>\n    </tr>\n    <tr>\n      <th>4</th>\n      <td>and</td>\n      <td>5560</td>\n      <td>0.036243</td>\n    </tr>\n    <tr>\n      <th>...</th>\n      <td>...</td>\n      <td>...</td>\n      <td>...</td>\n    </tr>\n    <tr>\n      <th>18422</th>\n      <td>Gutenberg-tm,</td>\n      <td>1</td>\n      <td>0.000007</td>\n    </tr>\n    <tr>\n      <th>18423</th>\n      <td>subscribe</td>\n      <td>1</td>\n      <td>0.000007</td>\n    </tr>\n    <tr>\n      <th>18424</th>\n      <td>email</td>\n      <td>1</td>\n      <td>0.000007</td>\n    </tr>\n    <tr>\n      <th>18425</th>\n      <td>newsletter</td>\n      <td>1</td>\n      <td>0.000007</td>\n    </tr>\n    <tr>\n      <th>18426</th>\n      <td>eBooks.</td>\n      <td>1</td>\n      <td>0.000007</td>\n    </tr>\n  </tbody>\n</table>\n<p>18427 rows × 3 columns</p>\n</div>"
     },
     "execution_count": 7,
     "metadata": {},
     "output_type": "execute_result"
    }
   ],
   "source": [
    "unigram_df1"
   ],
   "metadata": {
    "collapsed": false,
    "pycharm": {
     "name": "#%%\n"
    }
   }
  },
  {
   "cell_type": "code",
   "execution_count": 8,
   "outputs": [
    {
     "data": {
      "text/plain": "             unigram  count  probability\n0                the  12098     0.080331\n1                <S>   7938     0.052709\n2               </S>   7938     0.052709\n3                 of   7393     0.049090\n4                and   5237     0.034774\n...              ...    ...          ...\n18438      facility:      1     0.000007\n18439  Gutenberg-tm,      1     0.000007\n18440      subscribe      1     0.000007\n18441          email      1     0.000007\n18442     newsletter      1     0.000007\n\n[18443 rows x 3 columns]",
      "text/html": "<div>\n<style scoped>\n    .dataframe tbody tr th:only-of-type {\n        vertical-align: middle;\n    }\n\n    .dataframe tbody tr th {\n        vertical-align: top;\n    }\n\n    .dataframe thead th {\n        text-align: right;\n    }\n</style>\n<table border=\"1\" class=\"dataframe\">\n  <thead>\n    <tr style=\"text-align: right;\">\n      <th></th>\n      <th>unigram</th>\n      <th>count</th>\n      <th>probability</th>\n    </tr>\n  </thead>\n  <tbody>\n    <tr>\n      <th>0</th>\n      <td>the</td>\n      <td>12098</td>\n      <td>0.080331</td>\n    </tr>\n    <tr>\n      <th>1</th>\n      <td>&lt;S&gt;</td>\n      <td>7938</td>\n      <td>0.052709</td>\n    </tr>\n    <tr>\n      <th>2</th>\n      <td>&lt;/S&gt;</td>\n      <td>7938</td>\n      <td>0.052709</td>\n    </tr>\n    <tr>\n      <th>3</th>\n      <td>of</td>\n      <td>7393</td>\n      <td>0.049090</td>\n    </tr>\n    <tr>\n      <th>4</th>\n      <td>and</td>\n      <td>5237</td>\n      <td>0.034774</td>\n    </tr>\n    <tr>\n      <th>...</th>\n      <td>...</td>\n      <td>...</td>\n      <td>...</td>\n    </tr>\n    <tr>\n      <th>18438</th>\n      <td>facility:</td>\n      <td>1</td>\n      <td>0.000007</td>\n    </tr>\n    <tr>\n      <th>18439</th>\n      <td>Gutenberg-tm,</td>\n      <td>1</td>\n      <td>0.000007</td>\n    </tr>\n    <tr>\n      <th>18440</th>\n      <td>subscribe</td>\n      <td>1</td>\n      <td>0.000007</td>\n    </tr>\n    <tr>\n      <th>18441</th>\n      <td>email</td>\n      <td>1</td>\n      <td>0.000007</td>\n    </tr>\n    <tr>\n      <th>18442</th>\n      <td>newsletter</td>\n      <td>1</td>\n      <td>0.000007</td>\n    </tr>\n  </tbody>\n</table>\n<p>18443 rows × 3 columns</p>\n</div>"
     },
     "execution_count": 8,
     "metadata": {},
     "output_type": "execute_result"
    }
   ],
   "source": [
    "unigram_df2"
   ],
   "metadata": {
    "collapsed": false,
    "pycharm": {
     "name": "#%%\n"
    }
   }
  },
  {
   "cell_type": "code",
   "execution_count": 9,
   "outputs": [
    {
     "data": {
      "text/plain": "                 bigram    token       given  count  probability\n0           (</S>, <S>)      <S>        </S>   5834     0.999829\n1             (of, the)      the          of   2114     0.368550\n2            (<S>, The)      The         <S>    900     0.154242\n3             (in, the)      the          in    803     0.310638\n4            (and, the)      the         and    667     0.119964\n...                 ...      ...         ...    ...          ...\n74546  (newsletter, to)       to  newsletter      1     1.000000\n74547     (hear, about)    about        hear      1     0.055556\n74548      (about, new)      new       about      1     0.002833\n74549    (new, eBooks.)  eBooks.         new      1     0.031250\n74550   (eBooks., </S>)     </S>     eBooks.      1     1.000000\n\n[74551 rows x 5 columns]",
      "text/html": "<div>\n<style scoped>\n    .dataframe tbody tr th:only-of-type {\n        vertical-align: middle;\n    }\n\n    .dataframe tbody tr th {\n        vertical-align: top;\n    }\n\n    .dataframe thead th {\n        text-align: right;\n    }\n</style>\n<table border=\"1\" class=\"dataframe\">\n  <thead>\n    <tr style=\"text-align: right;\">\n      <th></th>\n      <th>bigram</th>\n      <th>token</th>\n      <th>given</th>\n      <th>count</th>\n      <th>probability</th>\n    </tr>\n  </thead>\n  <tbody>\n    <tr>\n      <th>0</th>\n      <td>(&lt;/S&gt;, &lt;S&gt;)</td>\n      <td>&lt;S&gt;</td>\n      <td>&lt;/S&gt;</td>\n      <td>5834</td>\n      <td>0.999829</td>\n    </tr>\n    <tr>\n      <th>1</th>\n      <td>(of, the)</td>\n      <td>the</td>\n      <td>of</td>\n      <td>2114</td>\n      <td>0.368550</td>\n    </tr>\n    <tr>\n      <th>2</th>\n      <td>(&lt;S&gt;, The)</td>\n      <td>The</td>\n      <td>&lt;S&gt;</td>\n      <td>900</td>\n      <td>0.154242</td>\n    </tr>\n    <tr>\n      <th>3</th>\n      <td>(in, the)</td>\n      <td>the</td>\n      <td>in</td>\n      <td>803</td>\n      <td>0.310638</td>\n    </tr>\n    <tr>\n      <th>4</th>\n      <td>(and, the)</td>\n      <td>the</td>\n      <td>and</td>\n      <td>667</td>\n      <td>0.119964</td>\n    </tr>\n    <tr>\n      <th>...</th>\n      <td>...</td>\n      <td>...</td>\n      <td>...</td>\n      <td>...</td>\n      <td>...</td>\n    </tr>\n    <tr>\n      <th>74546</th>\n      <td>(newsletter, to)</td>\n      <td>to</td>\n      <td>newsletter</td>\n      <td>1</td>\n      <td>1.000000</td>\n    </tr>\n    <tr>\n      <th>74547</th>\n      <td>(hear, about)</td>\n      <td>about</td>\n      <td>hear</td>\n      <td>1</td>\n      <td>0.055556</td>\n    </tr>\n    <tr>\n      <th>74548</th>\n      <td>(about, new)</td>\n      <td>new</td>\n      <td>about</td>\n      <td>1</td>\n      <td>0.002833</td>\n    </tr>\n    <tr>\n      <th>74549</th>\n      <td>(new, eBooks.)</td>\n      <td>eBooks.</td>\n      <td>new</td>\n      <td>1</td>\n      <td>0.031250</td>\n    </tr>\n    <tr>\n      <th>74550</th>\n      <td>(eBooks., &lt;/S&gt;)</td>\n      <td>&lt;/S&gt;</td>\n      <td>eBooks.</td>\n      <td>1</td>\n      <td>1.000000</td>\n    </tr>\n  </tbody>\n</table>\n<p>74551 rows × 5 columns</p>\n</div>"
     },
     "execution_count": 9,
     "metadata": {},
     "output_type": "execute_result"
    }
   ],
   "source": [
    "bigram_df1"
   ],
   "metadata": {
    "collapsed": false,
    "pycharm": {
     "name": "#%%\n"
    }
   }
  },
  {
   "cell_type": "code",
   "execution_count": 10,
   "outputs": [
    {
     "data": {
      "text/plain": "                    bigram       token       given  count  probability\n0              (</S>, <S>)         <S>        </S>   7937     0.999874\n1                (of, the)         the          of   2759     0.373191\n2               (<S>, The)         The         <S>   2171     0.273495\n3                (in, the)         the          in    990     0.396158\n4               (and, the)         the         and    662     0.126408\n...                    ...         ...         ...    ...          ...\n67318  (email, newsletter)  newsletter       email      1     1.000000\n67319     (newsletter, to)          to  newsletter      1     1.000000\n67320        (hear, about)       about        hear      1     0.166667\n67321         (about, new)         new       about      1     0.009615\n67322       (new, eBooks.)     eBooks.         new      1     0.009615\n\n[67323 rows x 5 columns]",
      "text/html": "<div>\n<style scoped>\n    .dataframe tbody tr th:only-of-type {\n        vertical-align: middle;\n    }\n\n    .dataframe tbody tr th {\n        vertical-align: top;\n    }\n\n    .dataframe thead th {\n        text-align: right;\n    }\n</style>\n<table border=\"1\" class=\"dataframe\">\n  <thead>\n    <tr style=\"text-align: right;\">\n      <th></th>\n      <th>bigram</th>\n      <th>token</th>\n      <th>given</th>\n      <th>count</th>\n      <th>probability</th>\n    </tr>\n  </thead>\n  <tbody>\n    <tr>\n      <th>0</th>\n      <td>(&lt;/S&gt;, &lt;S&gt;)</td>\n      <td>&lt;S&gt;</td>\n      <td>&lt;/S&gt;</td>\n      <td>7937</td>\n      <td>0.999874</td>\n    </tr>\n    <tr>\n      <th>1</th>\n      <td>(of, the)</td>\n      <td>the</td>\n      <td>of</td>\n      <td>2759</td>\n      <td>0.373191</td>\n    </tr>\n    <tr>\n      <th>2</th>\n      <td>(&lt;S&gt;, The)</td>\n      <td>The</td>\n      <td>&lt;S&gt;</td>\n      <td>2171</td>\n      <td>0.273495</td>\n    </tr>\n    <tr>\n      <th>3</th>\n      <td>(in, the)</td>\n      <td>the</td>\n      <td>in</td>\n      <td>990</td>\n      <td>0.396158</td>\n    </tr>\n    <tr>\n      <th>4</th>\n      <td>(and, the)</td>\n      <td>the</td>\n      <td>and</td>\n      <td>662</td>\n      <td>0.126408</td>\n    </tr>\n    <tr>\n      <th>...</th>\n      <td>...</td>\n      <td>...</td>\n      <td>...</td>\n      <td>...</td>\n      <td>...</td>\n    </tr>\n    <tr>\n      <th>67318</th>\n      <td>(email, newsletter)</td>\n      <td>newsletter</td>\n      <td>email</td>\n      <td>1</td>\n      <td>1.000000</td>\n    </tr>\n    <tr>\n      <th>67319</th>\n      <td>(newsletter, to)</td>\n      <td>to</td>\n      <td>newsletter</td>\n      <td>1</td>\n      <td>1.000000</td>\n    </tr>\n    <tr>\n      <th>67320</th>\n      <td>(hear, about)</td>\n      <td>about</td>\n      <td>hear</td>\n      <td>1</td>\n      <td>0.166667</td>\n    </tr>\n    <tr>\n      <th>67321</th>\n      <td>(about, new)</td>\n      <td>new</td>\n      <td>about</td>\n      <td>1</td>\n      <td>0.009615</td>\n    </tr>\n    <tr>\n      <th>67322</th>\n      <td>(new, eBooks.)</td>\n      <td>eBooks.</td>\n      <td>new</td>\n      <td>1</td>\n      <td>0.009615</td>\n    </tr>\n  </tbody>\n</table>\n<p>67323 rows × 5 columns</p>\n</div>"
     },
     "execution_count": 10,
     "metadata": {},
     "output_type": "execute_result"
    }
   ],
   "source": [
    "bigram_df2"
   ],
   "metadata": {
    "collapsed": false,
    "pycharm": {
     "name": "#%%\n"
    }
   }
  },
  {
   "cell_type": "code",
   "execution_count": 11,
   "outputs": [],
   "source": [
    "def generate_sentence(bigram_df: pd.DataFrame, sentence=[start_of_sent_token], variance_amount=10, max_words=20) -> list:\n",
    "    token_to_find = sentence[-1]\n",
    "    # print(len(sentence) < max_words)\n",
    "    if token_to_find != end_of_sent_token and len(sentence) < max_words:\n",
    "        bigram_matches = bigram_df[bigram_df['given'] == token_to_find]\\\n",
    "            .sort_values(by=['probability'], ascending=False)\\\n",
    "            .reset_index(drop=True)\\\n",
    "            .head(variance_amount + 1)\n",
    "        if len(bigram_matches['bigram']) >= 0:\n",
    "            # pick random one in top variance amount\n",
    "            next_token_idx = random.randint(0, min(variance_amount, len(bigram_matches['bigram']) - 1))  # both inclusive\n",
    "            try:\n",
    "                sentence += [str(bigram_matches.iloc[next_token_idx]['token'])]\n",
    "            except IndexError:\n",
    "                print(len(bigram_matches['bigram']))\n",
    "                print(next_token_idx)\n",
    "                print(bigram_matches)\n",
    "            # print(sentence)\n",
    "            return generate_sentence(bigram_df, sentence, variance_amount=variance_amount, max_words=max_words)\n",
    "    else:\n",
    "        return sentence\n",
    "\n",
    "def generate_sentences(bigram_df: pd.DataFrame, n=5, variance_amount=10, max_words=20):\n",
    "    # sent = generate_sentence(bigram_df, sentence=[start_of_sent_token], variance_amount=variance_amount, max_words=max_words)\n",
    "    # print(sent)\n",
    "    for i in range(n):\n",
    "        print(' '.join(generate_sentence(bigram_df, sentence=[start_of_sent_token], variance_amount=variance_amount, max_words=max_words)))\n"
   ],
   "metadata": {
    "collapsed": false,
    "pycharm": {
     "name": "#%%\n"
    }
   }
  },
  {
   "cell_type": "code",
   "execution_count": 12,
   "outputs": [
    {
     "name": "stdout",
     "output_type": "stream",
     "text": [
      "The_Boy_Travellers_in_the_Far_East_Part_Third_by_Thomas_Wallace_Knox.txt\n",
      "<S> In each person made a long time at a couple of these animals are very large one place called 'The Black Town,' and they had seen from which it would not more about thirty\n",
      "<S> The latter country where the boys asked about fifty days they were on his feet from all its course the time at the Doctor to see any of all its own employer. </S>\n",
      "<S> They saw was a dozen or three other tropical vegetation, among them are in their boats on account would sell it will have not at their way back to be in India to do\n",
      "<S> A gentleman whose finger-nails had not only in the most famous 'Peacock Throne,' which they would rather to get to the natives make an elephant in any means,\" was about twenty yards more or\n",
      "<S> A few hundred days through it. </S>\n",
      "\n",
      "The_Cathedrals_of_Great_Britain_Their_History_and_Architecture_by_PH_Ditchfield.txt\n",
      "<S> Here we find a few specimens of St. Mary, wife and are Early Decorated period, 1296 A.D., it as the choir aisle there are of his wife of its Norman character, e<prd>g<prd> y^e. </S>\n",
      "<S> There his death under Sir G. Scott, \"a great builder (1376-1394). </S>\n",
      "<S> There were formerly used in this is an earlier church is now used extensively restored by Lord and was erected originally cruciform, but happily left is very beautiful Lady Chapel, a great west bays\n",
      "<S> Bishop of his wife Matilda (good Queen Elizabeth. </S>\n",
      "<S> He also was in their great bell summoned the Cathedral is modern. </S>\n"
     ]
    }
   ],
   "source": [
    "print(file1)\n",
    "generate_sentences(bigram_df1, n=5, variance_amount=10, max_words=35)\n",
    "\n",
    "print()\n",
    "print(file2)\n",
    "generate_sentences(bigram_df2, n=5, variance_amount=10, max_words=35)"
   ],
   "metadata": {
    "collapsed": false,
    "pycharm": {
     "name": "#%%\n"
    }
   }
  },
  {
   "cell_type": "code",
   "execution_count": 12,
   "outputs": [],
   "source": [],
   "metadata": {
    "collapsed": false,
    "pycharm": {
     "name": "#%%\n"
    }
   }
  },
  {
   "cell_type": "code",
   "execution_count": 12,
   "outputs": [],
   "source": [],
   "metadata": {
    "collapsed": false,
    "pycharm": {
     "name": "#%%\n"
    }
   }
  }
 ],
 "metadata": {
  "kernelspec": {
   "display_name": "Python 3",
   "language": "python",
   "name": "python3"
  },
  "language_info": {
   "codemirror_mode": {
    "name": "ipython",
    "version": 2
   },
   "file_extension": ".py",
   "mimetype": "text/x-python",
   "name": "python",
   "nbconvert_exporter": "python",
   "pygments_lexer": "ipython2",
   "version": "2.7.6"
  }
 },
 "nbformat": 4,
 "nbformat_minor": 0
}