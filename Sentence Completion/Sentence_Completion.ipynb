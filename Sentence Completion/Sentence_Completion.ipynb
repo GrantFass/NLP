{
 "cells": [
  {
   "attachments": {},
   "cell_type": "markdown",
   "metadata": {},
   "source": [
    "# Sentence Completion\n",
    "This notebook is used for a final project as a part of the CS 4980 Natural Language Processing course at the Milwaukee School of Engineering during the spring term of 2023. This notebook was created by [Grant Fass](grantfass@gmail.com) and [Nicholas Kaja](kajan@msoe.edu). The following notebook will explore the problem of natural language sentence completion. This notebook can also be reached directly through the following GitHub repository: [https://github.com/GrantFass/NLP/tree/main/Sentence%20Completion](https://github.com/GrantFass/NLP/tree/main/Sentence%20Completion)\n",
    "\n",
    "Natural language sentence completion involves determining what word best fits in a blank present in a sentence. This type of question is typically found on the Scholastic Aptitude Test (SAT). It is useful because it can measure the performance of a language model (LM) on questions that educational experts deem important. LMs that perform well on this type of problem will likely perform better on broader tasks.\n",
    "\n",
    "The primary method for forming a sentence completion model is to compute the probability of each possible sentence tehn choose the most probable option. This probability computation can be done using n-grams, Latent Semantic Analysis (LSA), and Syntactic Dependency Trees. Some research has also been done into combining these with methods of preserving long-range dependencies in the sentences. Of these options, N-grams is one of the easiest starting points due to its ease of implementation and understanding. N-grams also allow for sufficient variations over the base model such as different N-gram algorithms, different values of N, and different methods of tokenization.\n",
    "\n",
    "We will be constructing our models from a dataset of Khan Academy lecture transcripts. This dataset was scraped using BeautifulSoup during January of 2023 by Nicholas Kaja as a part of a senior design project. The performance of our model will be evaluated on a [SAT Question Dataset](https://github.com/ctr4si/sentence-completion/tree/master/data/completion). After evaluation, we plan to take our best performing model and apply it to sentence generation. This will allow us to get a better feel for how well it performs. Once our model is working, we also plan to implement some additional features such as Named Entity Recognition (NER). If there is enough time we also plan to investigate using the [OpenAI tokenizer](https://platform.openai.com/tokenizer) instead of the [NLTK Word Tokenizer](https://www.nltk.org/api/nltk.tokenize.html) or the [SpaCy Tokenizer](https://spacy.io/api/tokenizer). The OpenAI tokenizer has a [python package found on github](https://github.com/openai/tiktoken).\n",
    "\n",
    "For more information please see the Data Collection And Processing document as well as the Project Background document. Both of these documents can be found in the repository under the Sentence Completion directory.\n",
    "\n",
    "## Pip Installations\n",
    "The below magic command should install all of the required python packages to run this project. If it does not run successfully please try to run the command through an admin shell instead."
   ]
  },
  {
   "cell_type": "code",
   "execution_count": 1,
   "metadata": {},
   "outputs": [
    {
     "name": "stdout",
     "output_type": "stream",
     "text": [
      "Requirement already satisfied: beautifulsoup4 in c:\\python310\\lib\\site-packages (from -r requirements.txt (line 1)) (4.11.2)\n",
      "Requirement already satisfied: contractions in c:\\python310\\lib\\site-packages (from -r requirements.txt (line 2)) (0.1.73)\n",
      "Requirement already satisfied: matplotlib in c:\\users\\fassg\\appdata\\roaming\\python\\python310\\site-packages (from -r requirements.txt (line 3)) (3.7.1)\n",
      "Requirement already satisfied: nltk in c:\\python310\\lib\\site-packages (from -r requirements.txt (line 4)) (3.8.1)\n",
      "Requirement already satisfied: numpy in c:\\users\\fassg\\appdata\\roaming\\python\\python310\\site-packages (from -r requirements.txt (line 5)) (1.24.2)\n",
      "Requirement already satisfied: pandas in c:\\python310\\lib\\site-packages (from -r requirements.txt (line 6)) (1.5.3)\n",
      "Requirement already satisfied: scikit_learn in c:\\users\\fassg\\appdata\\roaming\\python\\python310\\site-packages (from -r requirements.txt (line 7)) (1.2.2)\n",
      "Requirement already satisfied: seaborn in c:\\users\\fassg\\appdata\\roaming\\python\\python310\\site-packages (from -r requirements.txt (line 8)) (0.12.2)\n",
      "Requirement already satisfied: tqdm in c:\\python310\\lib\\site-packages (from -r requirements.txt (line 9)) (4.64.1)\n",
      "Requirement already satisfied: Unidecode in c:\\python310\\lib\\site-packages (from -r requirements.txt (line 10)) (1.3.6)\n",
      "Requirement already satisfied: ipywidgets in c:\\python310\\lib\\site-packages (from -r requirements.txt (line 11)) (8.0.2)\n",
      "Requirement already satisfied: soupsieve>1.2 in c:\\python310\\lib\\site-packages (from beautifulsoup4->-r requirements.txt (line 1)) (2.3.2.post1)\n",
      "Requirement already satisfied: textsearch>=0.0.21 in c:\\python310\\lib\\site-packages (from contractions->-r requirements.txt (line 2)) (0.0.24)\n",
      "Requirement already satisfied: pyahocorasick in c:\\python310\\lib\\site-packages (from textsearch>=0.0.21->contractions->-r requirements.txt (line 2)) (1.4.4)\n",
      "Requirement already satisfied: anyascii in c:\\python310\\lib\\site-packages (from textsearch>=0.0.21->contractions->-r requirements.txt (line 2)) (0.3.1)\n",
      "Requirement already satisfied: ipykernel>=4.5.1 in c:\\users\\fassg\\appdata\\roaming\\python\\python310\\site-packages (from ipywidgets->-r requirements.txt (line 11)) (6.16.2)\n",
      "Requirement already satisfied: widgetsnbextension~=4.0 in c:\\python310\\lib\\site-packages (from ipywidgets->-r requirements.txt (line 11)) (4.0.3)\n",
      "Requirement already satisfied: traitlets>=4.3.1 in c:\\users\\fassg\\appdata\\roaming\\python\\python310\\site-packages (from ipywidgets->-r requirements.txt (line 11)) (5.5.0)\n",
      "Requirement already satisfied: ipython>=6.1.0 in c:\\users\\fassg\\appdata\\roaming\\python\\python310\\site-packages (from ipywidgets->-r requirements.txt (line 11)) (8.5.0)\n",
      "Requirement already satisfied: jupyterlab-widgets~=3.0 in c:\\python310\\lib\\site-packages (from ipywidgets->-r requirements.txt (line 11)) (3.0.3)\n",
      "Requirement already satisfied: pyzmq>=17 in c:\\users\\fassg\\appdata\\roaming\\python\\python310\\site-packages (from ipykernel>=4.5.1->ipywidgets->-r requirements.txt (line 11)) (24.0.1)\n",
      "Requirement already satisfied: matplotlib-inline>=0.1 in c:\\users\\fassg\\appdata\\roaming\\python\\python310\\site-packages (from ipykernel>=4.5.1->ipywidgets->-r requirements.txt (line 11)) (0.1.6)\n",
      "Requirement already satisfied: nest-asyncio in c:\\users\\fassg\\appdata\\roaming\\python\\python310\\site-packages (from ipykernel>=4.5.1->ipywidgets->-r requirements.txt (line 11)) (1.5.6)\n",
      "Requirement already satisfied: packaging in c:\\python310\\lib\\site-packages (from ipykernel>=4.5.1->ipywidgets->-r requirements.txt (line 11)) (21.3)\n",
      "Requirement already satisfied: tornado>=6.1 in c:\\users\\fassg\\appdata\\roaming\\python\\python310\\site-packages (from ipykernel>=4.5.1->ipywidgets->-r requirements.txt (line 11)) (6.2)\n",
      "Requirement already satisfied: debugpy>=1.0 in c:\\users\\fassg\\appdata\\roaming\\python\\python310\\site-packages (from ipykernel>=4.5.1->ipywidgets->-r requirements.txt (line 11)) (1.6.3)\n",
      "Requirement already satisfied: jupyter-client>=6.1.12 in c:\\users\\fassg\\appdata\\roaming\\python\\python310\\site-packages (from ipykernel>=4.5.1->ipywidgets->-r requirements.txt (line 11)) (7.4.4)\n",
      "Requirement already satisfied: psutil in c:\\users\\fassg\\appdata\\roaming\\python\\python310\\site-packages (from ipykernel>=4.5.1->ipywidgets->-r requirements.txt (line 11)) (5.9.3)\n",
      "Requirement already satisfied: pickleshare in c:\\users\\fassg\\appdata\\roaming\\python\\python310\\site-packages (from ipython>=6.1.0->ipywidgets->-r requirements.txt (line 11)) (0.7.5)\n",
      "Requirement already satisfied: stack-data in c:\\users\\fassg\\appdata\\roaming\\python\\python310\\site-packages (from ipython>=6.1.0->ipywidgets->-r requirements.txt (line 11)) (0.5.1)\n",
      "Requirement already satisfied: jedi>=0.16 in c:\\users\\fassg\\appdata\\roaming\\python\\python310\\site-packages (from ipython>=6.1.0->ipywidgets->-r requirements.txt (line 11)) (0.18.1)\n",
      "Requirement already satisfied: backcall in c:\\users\\fassg\\appdata\\roaming\\python\\python310\\site-packages (from ipython>=6.1.0->ipywidgets->-r requirements.txt (line 11)) (0.2.0)\n",
      "Requirement already satisfied: decorator in c:\\users\\fassg\\appdata\\roaming\\python\\python310\\site-packages (from ipython>=6.1.0->ipywidgets->-r requirements.txt (line 11)) (5.1.1)\n",
      "Requirement already satisfied: prompt-toolkit<3.1.0,>3.0.1 in c:\\users\\fassg\\appdata\\roaming\\python\\python310\\site-packages (from ipython>=6.1.0->ipywidgets->-r requirements.txt (line 11)) (3.0.31)\n",
      "Requirement already satisfied: pygments>=2.4.0 in c:\\users\\fassg\\appdata\\roaming\\python\\python310\\site-packages (from ipython>=6.1.0->ipywidgets->-r requirements.txt (line 11)) (2.13.0)\n",
      "Requirement already satisfied: colorama in c:\\python310\\lib\\site-packages (from ipython>=6.1.0->ipywidgets->-r requirements.txt (line 11)) (0.4.5)\n",
      "Requirement already satisfied: parso<0.9.0,>=0.8.0 in c:\\users\\fassg\\appdata\\roaming\\python\\python310\\site-packages (from jedi>=0.16->ipython>=6.1.0->ipywidgets->-r requirements.txt (line 11)) (0.8.3)\n",
      "Requirement already satisfied: python-dateutil>=2.8.2 in c:\\python310\\lib\\site-packages (from jupyter-client>=6.1.12->ipykernel>=4.5.1->ipywidgets->-r requirements.txt (line 11)) (2.8.2)\n",
      "Requirement already satisfied: jupyter-core>=4.9.2 in c:\\users\\fassg\\appdata\\roaming\\python\\python310\\site-packages (from jupyter-client>=6.1.12->ipykernel>=4.5.1->ipywidgets->-r requirements.txt (line 11)) (4.11.2)\n",
      "Requirement already satisfied: entrypoints in c:\\users\\fassg\\appdata\\roaming\\python\\python310\\site-packages (from jupyter-client>=6.1.12->ipykernel>=4.5.1->ipywidgets->-r requirements.txt (line 11)) (0.4)\n",
      "Requirement already satisfied: pywin32>=1.0 in c:\\users\\fassg\\appdata\\roaming\\python\\python310\\site-packages (from jupyter-core>=4.9.2->jupyter-client>=6.1.12->ipykernel>=4.5.1->ipywidgets->-r requirements.txt (line 11)) (304)\n",
      "Requirement already satisfied: wcwidth in c:\\users\\fassg\\appdata\\roaming\\python\\python310\\site-packages (from prompt-toolkit<3.1.0,>3.0.1->ipython>=6.1.0->ipywidgets->-r requirements.txt (line 11)) (0.2.5)\n",
      "Requirement already satisfied: six>=1.5 in c:\\python310\\lib\\site-packages (from python-dateutil>=2.8.2->jupyter-client>=6.1.12->ipykernel>=4.5.1->ipywidgets->-r requirements.txt (line 11)) (1.16.0)\n",
      "Requirement already satisfied: pyparsing>=2.3.1 in c:\\python310\\lib\\site-packages (from matplotlib->-r requirements.txt (line 3)) (3.0.9)\n",
      "Requirement already satisfied: contourpy>=1.0.1 in c:\\users\\fassg\\appdata\\roaming\\python\\python310\\site-packages (from matplotlib->-r requirements.txt (line 3)) (1.0.7)\n",
      "Requirement already satisfied: pillow>=6.2.0 in c:\\python310\\lib\\site-packages (from matplotlib->-r requirements.txt (line 3)) (9.2.0)\n",
      "Requirement already satisfied: kiwisolver>=1.0.1 in c:\\python310\\lib\\site-packages (from matplotlib->-r requirements.txt (line 3)) (1.4.4)\n",
      "Requirement already satisfied: cycler>=0.10 in c:\\python310\\lib\\site-packages (from matplotlib->-r requirements.txt (line 3)) (0.11.0)\n",
      "Requirement already satisfied: fonttools>=4.22.0 in c:\\python310\\lib\\site-packages (from matplotlib->-r requirements.txt (line 3)) (4.37.1)\n",
      "Requirement already satisfied: regex>=2021.8.3 in c:\\python310\\lib\\site-packages (from nltk->-r requirements.txt (line 4)) (2022.10.31)\n",
      "Requirement already satisfied: click in c:\\python310\\lib\\site-packages (from nltk->-r requirements.txt (line 4)) (8.1.3)\n",
      "Requirement already satisfied: joblib in c:\\users\\fassg\\appdata\\roaming\\python\\python310\\site-packages (from nltk->-r requirements.txt (line 4)) (1.2.0)\n",
      "Requirement already satisfied: pytz>=2020.1 in c:\\python310\\lib\\site-packages (from pandas->-r requirements.txt (line 6)) (2022.2.1)\n",
      "Requirement already satisfied: threadpoolctl>=2.0.0 in c:\\python310\\lib\\site-packages (from scikit_learn->-r requirements.txt (line 7)) (3.1.0)\n",
      "Requirement already satisfied: scipy>=1.3.2 in c:\\python310\\lib\\site-packages (from scikit_learn->-r requirements.txt (line 7)) (1.8.1)\n",
      "Requirement already satisfied: pure-eval in c:\\users\\fassg\\appdata\\roaming\\python\\python310\\site-packages (from stack-data->ipython>=6.1.0->ipywidgets->-r requirements.txt (line 11)) (0.2.2)\n",
      "Requirement already satisfied: asttokens in c:\\users\\fassg\\appdata\\roaming\\python\\python310\\site-packages (from stack-data->ipython>=6.1.0->ipywidgets->-r requirements.txt (line 11)) (2.0.8)\n",
      "Requirement already satisfied: executing in c:\\users\\fassg\\appdata\\roaming\\python\\python310\\site-packages (from stack-data->ipython>=6.1.0->ipywidgets->-r requirements.txt (line 11)) (1.1.1)\n",
      "Note: you may need to restart the kernel to use updated packages.\n"
     ]
    }
   ],
   "source": [
    "%pip install -r requirements.txt --user"
   ]
  },
  {
   "attachments": {},
   "cell_type": "markdown",
   "metadata": {},
   "source": [
    "## Imports\n",
    "This cell contains the imports and some setup functions. This is mostly generalized which means there are extra imports as of now."
   ]
  },
  {
   "cell_type": "code",
   "execution_count": 23,
   "metadata": {
    "collapsed": true
   },
   "outputs": [
    {
     "name": "stderr",
     "output_type": "stream",
     "text": [
      "[nltk_data] Downloading package names to\n",
      "[nltk_data]     C:\\Users\\Grant\\AppData\\Roaming\\nltk_data...\n",
      "[nltk_data]   Package names is already up-to-date!\n",
      "[nltk_data] Downloading package stopwords to\n",
      "[nltk_data]     C:\\Users\\Grant\\AppData\\Roaming\\nltk_data...\n",
      "[nltk_data]   Package stopwords is already up-to-date!\n",
      "[nltk_data] Downloading package state_union to\n",
      "[nltk_data]     C:\\Users\\Grant\\AppData\\Roaming\\nltk_data...\n",
      "[nltk_data]   Package state_union is already up-to-date!\n",
      "[nltk_data] Downloading package twitter_samples to\n",
      "[nltk_data]     C:\\Users\\Grant\\AppData\\Roaming\\nltk_data...\n",
      "[nltk_data]   Package twitter_samples is already up-to-date!\n",
      "[nltk_data] Downloading package movie_reviews to\n",
      "[nltk_data]     C:\\Users\\Grant\\AppData\\Roaming\\nltk_data...\n",
      "[nltk_data]   Package movie_reviews is already up-to-date!\n",
      "[nltk_data] Downloading package averaged_perceptron_tagger to\n",
      "[nltk_data]     C:\\Users\\Grant\\AppData\\Roaming\\nltk_data...\n",
      "[nltk_data]   Package averaged_perceptron_tagger is already up-to-\n",
      "[nltk_data]       date!\n",
      "[nltk_data] Downloading package vader_lexicon to\n",
      "[nltk_data]     C:\\Users\\Grant\\AppData\\Roaming\\nltk_data...\n",
      "[nltk_data]   Package vader_lexicon is already up-to-date!\n",
      "[nltk_data] Downloading package punkt to\n",
      "[nltk_data]     C:\\Users\\Grant\\AppData\\Roaming\\nltk_data...\n",
      "[nltk_data]   Package punkt is already up-to-date!\n"
     ]
    }
   ],
   "source": [
    "from pathlib import Path\n",
    "from collections import Counter, defaultdict\n",
    "import pandas as pd\n",
    "import random\n",
    "from tqdm.notebook import tqdm\n",
    "import nltk\n",
    "from nltk.util import ngrams\n",
    "import nltk.data\n",
    "import re\n",
    "import contractions\n",
    "from bs4 import BeautifulSoup\n",
    "import unidecode\n",
    "from nltk.sentiment import SentimentIntensityAnalyzer\n",
    "from nltk.stem import WordNetLemmatizer\n",
    "from nltk.tokenize import word_tokenize\n",
    "from sklearn.preprocessing import LabelEncoder\n",
    "from sklearn.model_selection import train_test_split\n",
    "from sklearn.metrics import accuracy_score, precision_score\n",
    "from sklearn.metrics import f1_score, recall_score\n",
    "from sklearn.metrics import classification_report\n",
    "from sklearn.metrics import confusion_matrix, ConfusionMatrixDisplay\n",
    "from sklearn.model_selection import StratifiedKFold\n",
    "from sklearn.feature_extraction.text import CountVectorizer\n",
    "import math\n",
    "import numpy as np\n",
    "import copy\n",
    "import seaborn as sns\n",
    "import matplotlib.pyplot as plt\n",
    "import json\n",
    "import pickle\n",
    "\n",
    "nltk.download([\n",
    "\"names\",\n",
    "\"stopwords\",\n",
    "\"state_union\",\n",
    "\"twitter_samples\",\n",
    "\"movie_reviews\",\n",
    "\"averaged_perceptron_tagger\",\n",
    "\"vader_lexicon\",\n",
    "\"punkt\",\n",
    "])\n",
    "\n",
    "lemmatizer = WordNetLemmatizer()\n",
    "sia = SentimentIntensityAnalyzer()\n",
    "encoder = LabelEncoder()\n",
    "sent_detector = nltk.data.load('tokenizers/punkt/english.pickle')\n",
    "tqdm.pandas()\n",
    "n = 3"
   ]
  },
  {
   "attachments": {},
   "cell_type": "markdown",
   "metadata": {},
   "source": [
    "## Data Loading  \n",
    "This section is used to load in all of the training data for the vocabulary. This comes from the 5 csv files of Khan Academy lectures. These files are all combined into a single dataframe for easier use and analysis. In the future we may need to include other sources of data such as ted talks or even ebooks in order to widen our vocabulary.\n",
    "\n",
    "We also load in the SAT dataset here. This is a short dataset that we are primarily using as our testing set. The goal here is to guess which response option, out of five, is the correct response for a fill-in-the-blank SAT question. "
   ]
  },
  {
   "cell_type": "code",
   "execution_count": 24,
   "metadata": {},
   "outputs": [
    {
     "name": "stdout",
     "output_type": "stream",
     "text": [
      "<class 'pandas.core.frame.DataFrame'>\n",
      "Int64Index: 8261 entries, 0 to 2789\n",
      "Data columns (total 6 columns):\n",
      " #   Column       Non-Null Count  Dtype \n",
      "---  ------       --------------  ----- \n",
      " 0   course       8261 non-null   object\n",
      " 1   unit         8261 non-null   object\n",
      " 2   lesson       8261 non-null   object\n",
      " 3   video_title  8261 non-null   object\n",
      " 4   about        8261 non-null   object\n",
      " 5   transcript   8261 non-null   object\n",
      "dtypes: object(6)\n",
      "memory usage: 451.8+ KB\n"
     ]
    }
   ],
   "source": [
    "computing_df = pd.read_csv(\"Datasets\\\\KhanAcademy\\\\Computing.csv\")\n",
    "computing_df = computing_df.dropna()\n",
    "\n",
    "economics_df = pd.read_csv(\"Datasets\\\\KhanAcademy\\\\Economics.csv\")\n",
    "economics_df = economics_df.dropna()\n",
    "\n",
    "humanities_df = pd.read_csv(\"Datasets\\\\KhanAcademy\\\\Humanities.csv\")\n",
    "humanities_df = humanities_df.dropna()\n",
    "\n",
    "math_df = pd.read_csv(\"Datasets\\\\KhanAcademy\\\\Math.csv\")\n",
    "math_df = math_df.dropna()\n",
    "\n",
    "science_df = pd.read_csv(\"Datasets\\\\KhanAcademy\\\\Science.csv\")\n",
    "science_df = science_df.dropna()\n",
    "\n",
    "khan_dfs = [computing_df, economics_df, humanities_df, math_df, science_df]\n",
    "khan = pd.concat(khan_dfs, axis=0)\n",
    "khan.info(verbose=True, show_counts=True)"
   ]
  },
  {
   "cell_type": "code",
   "execution_count": 25,
   "metadata": {},
   "outputs": [
    {
     "name": "stdout",
     "output_type": "stream",
     "text": [
      "<class 'pandas.core.frame.DataFrame'>\n",
      "RangeIndex: 152 entries, 0 to 151\n",
      "Data columns (total 13 columns):\n",
      " #   Column    Non-Null Count  Dtype \n",
      "---  ------    --------------  ----- \n",
      " 0   id        152 non-null    int64 \n",
      " 1   ans       152 non-null    object\n",
      " 2   question  152 non-null    object\n",
      " 3   a)        152 non-null    object\n",
      " 4   b)        152 non-null    object\n",
      " 5   c)        152 non-null    object\n",
      " 6   d)        152 non-null    object\n",
      " 7   e)        152 non-null    object\n",
      " 8   year      152 non-null    int64 \n",
      " 9   sec       152 non-null    int64 \n",
      " 10  num       152 non-null    int64 \n",
      " 11  diff      152 non-null    object\n",
      " 12  blanks    152 non-null    int64 \n",
      "dtypes: int64(5), object(8)\n",
      "memory usage: 15.6+ KB\n"
     ]
    }
   ],
   "source": [
    "sat = pd.read_csv(\"Datasets\\\\SAT_Question_Dataset.csv\")\n",
    "sat.info(verbose=True, show_counts=True)"
   ]
  },
  {
   "attachments": {},
   "cell_type": "markdown",
   "metadata": {},
   "source": [
    "## Cleaning\n",
    "This section is dedicated to cleaning up some of our vocabulary dataset before it is used to create the vocabulary. We have decided, for simplicity, to remove the first sentence of every transcript in the dataset. This will allow us to easily remove all of the tagging information such as \"[Instructor]\" and \"- Speaker 1:\". Most of the first sentences are greetings and introductions. As such they are not necessarily as important to answering the SAT question dataset. We have also elected to expand contractions, remove html tags, remove quotes, and replace accented characters.\n",
    "\n",
    "The same general cleaning method is run over our testing data as well. The first sentence removal is not performed on the testing data.\n",
    "\n",
    "[Note] Before this section, as a part of the cleaning, we will want to perform SpaCy NER. Use SpaCy NER to identify the multi-word-expressions then use the [nltk.tokenize.mwe module](https://www.nltk.org/api/nltk.tokenize.mwe.html) to combine the tokens - Grant."
   ]
  },
  {
   "cell_type": "code",
   "execution_count": 26,
   "metadata": {},
   "outputs": [
    {
     "data": {
      "application/vnd.jupyter.widget-view+json": {
       "model_id": "c44f2e0b96ff4b1788118271221c5388",
       "version_major": 2,
       "version_minor": 0
      },
      "text/plain": [
       "  0%|          | 0/8261 [00:00<?, ?it/s]"
      ]
     },
     "metadata": {},
     "output_type": "display_data"
    },
    {
     "data": {
      "application/vnd.jupyter.widget-view+json": {
       "model_id": "6abb6de243224b01bba868262ff04a8d",
       "version_major": 2,
       "version_minor": 0
      },
      "text/plain": [
       "  0%|          | 0/8261 [00:00<?, ?it/s]"
      ]
     },
     "metadata": {},
     "output_type": "display_data"
    },
    {
     "data": {
      "text/html": [
       "<div>\n",
       "<style scoped>\n",
       "    .dataframe tbody tr th:only-of-type {\n",
       "        vertical-align: middle;\n",
       "    }\n",
       "\n",
       "    .dataframe tbody tr th {\n",
       "        vertical-align: top;\n",
       "    }\n",
       "\n",
       "    .dataframe thead th {\n",
       "        text-align: right;\n",
       "    }\n",
       "</style>\n",
       "<table border=\"1\" class=\"dataframe\">\n",
       "  <thead>\n",
       "    <tr style=\"text-align: right;\">\n",
       "      <th></th>\n",
       "      <th>course</th>\n",
       "      <th>unit</th>\n",
       "      <th>lesson</th>\n",
       "      <th>video_title</th>\n",
       "      <th>about</th>\n",
       "      <th>transcript</th>\n",
       "      <th>clean_transcript</th>\n",
       "    </tr>\n",
       "  </thead>\n",
       "  <tbody>\n",
       "    <tr>\n",
       "      <th>0</th>\n",
       "      <td>Computer programming</td>\n",
       "      <td>Intro to JS: Drawing &amp; Animation</td>\n",
       "      <td>Intro to programming</td>\n",
       "      <td>What is Programming?</td>\n",
       "      <td>Programming is the process of creating a set o...</td>\n",
       "      <td>Hi, welcome to programming! If you've never le...</td>\n",
       "      <td>If you have never learned to program before, y...</td>\n",
       "    </tr>\n",
       "    <tr>\n",
       "      <th>1</th>\n",
       "      <td>Computer programming</td>\n",
       "      <td>Intro to JS: Drawing &amp; Animation</td>\n",
       "      <td>Coloring</td>\n",
       "      <td>The Power of the Docs</td>\n",
       "      <td>Created by Pamela Fox.</td>\n",
       "      <td>Voiceover: Ok so you've\\r\\nmade a few programs...</td>\n",
       "      <td>Is it width and height, or is it height and wi...</td>\n",
       "    </tr>\n",
       "    <tr>\n",
       "      <th>5</th>\n",
       "      <td>Computer programming</td>\n",
       "      <td>Intro to HTML/CSS: Making webpages</td>\n",
       "      <td>Further learning</td>\n",
       "      <td>HTML validation</td>\n",
       "      <td>Learn how to validate your webpages with the W...</td>\n",
       "      <td>- [Voiceover] On Khan Academy, we pop up the o...</td>\n",
       "      <td>But we only tell you about the big things. The...</td>\n",
       "    </tr>\n",
       "    <tr>\n",
       "      <th>6</th>\n",
       "      <td>Computer programming</td>\n",
       "      <td>Intro to SQL: Querying and managing data</td>\n",
       "      <td>SQL basics</td>\n",
       "      <td>Welcome to SQL</td>\n",
       "      <td>SQL is useful for creating and querying relati...</td>\n",
       "      <td>- [Instructor] The world is full of data. Ever...</td>\n",
       "      <td>Every app that you use is full of data. On Kha...</td>\n",
       "    </tr>\n",
       "    <tr>\n",
       "      <th>7</th>\n",
       "      <td>Computer programming</td>\n",
       "      <td>Intro to SQL: Querying and managing data</td>\n",
       "      <td>SQL basics</td>\n",
       "      <td>S-Q-L or SEQUEL?</td>\n",
       "      <td>How is it pronounced? Why? Let's discuss...</td>\n",
       "      <td>At this point, you've probably heard me\\r\\npro...</td>\n",
       "      <td>Some of you might even be mad that I am pronou...</td>\n",
       "    </tr>\n",
       "  </tbody>\n",
       "</table>\n",
       "</div>"
      ],
      "text/plain": [
       "                 course                                      unit  \\\n",
       "0  Computer programming          Intro to JS: Drawing & Animation   \n",
       "1  Computer programming          Intro to JS: Drawing & Animation   \n",
       "5  Computer programming        Intro to HTML/CSS: Making webpages   \n",
       "6  Computer programming  Intro to SQL: Querying and managing data   \n",
       "7  Computer programming  Intro to SQL: Querying and managing data   \n",
       "\n",
       "                 lesson            video_title  \\\n",
       "0  Intro to programming   What is Programming?   \n",
       "1              Coloring  The Power of the Docs   \n",
       "5      Further learning        HTML validation   \n",
       "6            SQL basics         Welcome to SQL   \n",
       "7            SQL basics       S-Q-L or SEQUEL?   \n",
       "\n",
       "                                               about  \\\n",
       "0  Programming is the process of creating a set o...   \n",
       "1                             Created by Pamela Fox.   \n",
       "5  Learn how to validate your webpages with the W...   \n",
       "6  SQL is useful for creating and querying relati...   \n",
       "7       How is it pronounced? Why? Let's discuss...    \n",
       "\n",
       "                                          transcript  \\\n",
       "0  Hi, welcome to programming! If you've never le...   \n",
       "1  Voiceover: Ok so you've\\r\\nmade a few programs...   \n",
       "5  - [Voiceover] On Khan Academy, we pop up the o...   \n",
       "6  - [Instructor] The world is full of data. Ever...   \n",
       "7  At this point, you've probably heard me\\r\\npro...   \n",
       "\n",
       "                                    clean_transcript  \n",
       "0  If you have never learned to program before, y...  \n",
       "1  Is it width and height, or is it height and wi...  \n",
       "5  But we only tell you about the big things. The...  \n",
       "6  Every app that you use is full of data. On Kha...  \n",
       "7  Some of you might even be mad that I am pronou...  "
      ]
     },
     "execution_count": 26,
     "metadata": {},
     "output_type": "execute_result"
    }
   ],
   "source": [
    "def clean_base(x: str):\n",
    "        # remove any html tags\n",
    "        x = BeautifulSoup(x, \"html.parser\").get_text(separator=\" \")\n",
    "        # # set all to lower\n",
    "        # x = x.lower()\n",
    "        # clean up the contractions\n",
    "        x = contractions.fix(x)\n",
    "        # remove accended characters\n",
    "        x = unidecode.unidecode(x)\n",
    "        # # remove stopwords: https://stackoverflow.com/questions/19560498/faster-way-to-remove-stop-words-in-python\n",
    "        # x = ' '.join([word for word in x.split() if word not in cachedStopWords]) # slower to use word tokenize\n",
    "        # # fix punctuation spacing\n",
    "        # x = re.sub(r'(?<=[\\.\\,\\?])(?=[^\\s])', r' ', x)\n",
    "        # # strip punctuation\n",
    "        # x = re.sub(r'[\\.\\,\\?\\\\\\/\\<\\>\\;\\:\\[\\]\\{\\}]', r'', x)\n",
    "        # strip quotes\n",
    "        x = x.replace('\\'', '').replace('\\\"', '')\n",
    "        # remove some actions\n",
    "        remove_list = ['(Laughter)', '(laughter)', '(Music)', '(music)', '(Music ends)', '(Audience cheers)', '(Applause)', '(Applause ends)', '(Applause continues)', '(Bells)', '(Trumpet)', '(Clears throat)']\n",
    "        x = ' '.join([word for word in x.split() if word not in remove_list])\n",
    "        # remove extraneous items\n",
    "        x = x.replace(' -- ', '').replace(' .. ', ' ').replace(' ... ', ' ')\n",
    "        # remove extra whitespace\n",
    "        x = ' '.join(x.strip().split())\n",
    "        # # may want to add lematization\n",
    "        # x = ' '.join([lemmatizer.lemmatize(word) for word in x.split()])\n",
    "        # remove some of the extra bracket tags\n",
    "        x = re.sub(r\"\\s{2,}\", \" \", re.sub(r\"[\\(\\[\\{][^\\)\\]\\}]*[\\)\\]\\}]\", \"\", x))\n",
    "        return x\n",
    "\n",
    "def remove_first_sentence(doc):\n",
    "    \"\"\"\n",
    "    This removes the first sentence of a document. We use this to remove all narrator / speaker tags, and\n",
    "    to remove unnecessary introductory sentences that most transcripts have\n",
    "    \"\"\"\n",
    "    return ' '.join(nltk.sent_tokenize(doc)[1:])\n",
    "\n",
    "transcripts = khan['transcript']\n",
    "transcripts = transcripts.progress_apply(remove_first_sentence)\n",
    "transcripts = transcripts.progress_apply(clean_base)\n",
    "khan['clean_transcript'] = transcripts\n",
    "khan.head()\n"
   ]
  },
  {
   "cell_type": "code",
   "execution_count": 27,
   "metadata": {},
   "outputs": [
    {
     "data": {
      "application/vnd.jupyter.widget-view+json": {
       "model_id": "f2b8fc8e8e1441f9b0344b0f9c506f17",
       "version_major": 2,
       "version_minor": 0
      },
      "text/plain": [
       "  0%|          | 0/152 [00:00<?, ?it/s]"
      ]
     },
     "metadata": {},
     "output_type": "display_data"
    },
    {
     "data": {
      "application/vnd.jupyter.widget-view+json": {
       "model_id": "f7c942d91e814db2b5a14396bba7af41",
       "version_major": 2,
       "version_minor": 0
      },
      "text/plain": [
       "  0%|          | 0/152 [00:00<?, ?it/s]"
      ]
     },
     "metadata": {},
     "output_type": "display_data"
    },
    {
     "data": {
      "application/vnd.jupyter.widget-view+json": {
       "model_id": "3ae294ed35ed4e068802bfdbc69db92a",
       "version_major": 2,
       "version_minor": 0
      },
      "text/plain": [
       "  0%|          | 0/152 [00:00<?, ?it/s]"
      ]
     },
     "metadata": {},
     "output_type": "display_data"
    },
    {
     "data": {
      "application/vnd.jupyter.widget-view+json": {
       "model_id": "ab38fbe2c52d47f8bd6ebccdefe1b110",
       "version_major": 2,
       "version_minor": 0
      },
      "text/plain": [
       "  0%|          | 0/152 [00:00<?, ?it/s]"
      ]
     },
     "metadata": {},
     "output_type": "display_data"
    },
    {
     "data": {
      "application/vnd.jupyter.widget-view+json": {
       "model_id": "2b9e10b2a0d54bc495fe71621281dc76",
       "version_major": 2,
       "version_minor": 0
      },
      "text/plain": [
       "  0%|          | 0/152 [00:00<?, ?it/s]"
      ]
     },
     "metadata": {},
     "output_type": "display_data"
    },
    {
     "data": {
      "application/vnd.jupyter.widget-view+json": {
       "model_id": "178bf7f1b9774dc3b4a6678ffc11cd44",
       "version_major": 2,
       "version_minor": 0
      },
      "text/plain": [
       "  0%|          | 0/152 [00:00<?, ?it/s]"
      ]
     },
     "metadata": {},
     "output_type": "display_data"
    },
    {
     "data": {
      "text/html": [
       "<div>\n",
       "<style scoped>\n",
       "    .dataframe tbody tr th:only-of-type {\n",
       "        vertical-align: middle;\n",
       "    }\n",
       "\n",
       "    .dataframe tbody tr th {\n",
       "        vertical-align: top;\n",
       "    }\n",
       "\n",
       "    .dataframe thead th {\n",
       "        text-align: right;\n",
       "    }\n",
       "</style>\n",
       "<table border=\"1\" class=\"dataframe\">\n",
       "  <thead>\n",
       "    <tr style=\"text-align: right;\">\n",
       "      <th></th>\n",
       "      <th>id</th>\n",
       "      <th>ans</th>\n",
       "      <th>question</th>\n",
       "      <th>a)</th>\n",
       "      <th>b)</th>\n",
       "      <th>c)</th>\n",
       "      <th>d)</th>\n",
       "      <th>e)</th>\n",
       "      <th>year</th>\n",
       "      <th>sec</th>\n",
       "      <th>num</th>\n",
       "      <th>diff</th>\n",
       "      <th>blanks</th>\n",
       "    </tr>\n",
       "  </thead>\n",
       "  <tbody>\n",
       "    <tr>\n",
       "      <th>0</th>\n",
       "      <td>1</td>\n",
       "      <td>e</td>\n",
       "      <td>Much of our knowledge of dinosaurs comes from ...</td>\n",
       "      <td>Much of our knowledge of dinosaurs comes from ...</td>\n",
       "      <td>Much of our knowledge of dinosaurs comes from ...</td>\n",
       "      <td>Much of our knowledge of dinosaurs comes from ...</td>\n",
       "      <td>Much of our knowledge of dinosaurs comes from ...</td>\n",
       "      <td>Much of our knowledge of dinosaurs comes from ...</td>\n",
       "      <td>2001</td>\n",
       "      <td>1</td>\n",
       "      <td>1</td>\n",
       "      <td>1</td>\n",
       "      <td>2</td>\n",
       "    </tr>\n",
       "    <tr>\n",
       "      <th>1</th>\n",
       "      <td>2</td>\n",
       "      <td>c</td>\n",
       "      <td>Responding to criticism that the script was ra...</td>\n",
       "      <td>Responding to criticism that the script was ra...</td>\n",
       "      <td>Responding to criticism that the script was ra...</td>\n",
       "      <td>Responding to criticism that the script was ra...</td>\n",
       "      <td>Responding to criticism that the script was ra...</td>\n",
       "      <td>Responding to criticism that the script was ra...</td>\n",
       "      <td>2001</td>\n",
       "      <td>1</td>\n",
       "      <td>2</td>\n",
       "      <td>1</td>\n",
       "      <td>2</td>\n",
       "    </tr>\n",
       "    <tr>\n",
       "      <th>2</th>\n",
       "      <td>3</td>\n",
       "      <td>e</td>\n",
       "      <td>Vernal pools are among the most _____ of ponds...</td>\n",
       "      <td>Vernal pools are among the most transitory of ...</td>\n",
       "      <td>Vernal pools are among the most anachronistic ...</td>\n",
       "      <td>Vernal pools are among the most immutable of p...</td>\n",
       "      <td>Vernal pools are among the most itinerant of p...</td>\n",
       "      <td>Vernal pools are among the most ephemeral of p...</td>\n",
       "      <td>2001</td>\n",
       "      <td>1</td>\n",
       "      <td>3</td>\n",
       "      <td>2</td>\n",
       "      <td>2</td>\n",
       "    </tr>\n",
       "    <tr>\n",
       "      <th>3</th>\n",
       "      <td>4</td>\n",
       "      <td>e</td>\n",
       "      <td>During the 1990s, Shanghai benefited from an a...</td>\n",
       "      <td>During the 1990s, Shanghai benefited from an a...</td>\n",
       "      <td>During the 1990s, Shanghai benefited from an a...</td>\n",
       "      <td>During the 1990s, Shanghai benefited from an a...</td>\n",
       "      <td>During the 1990s, Shanghai benefited from an a...</td>\n",
       "      <td>During the 1990s, Shanghai benefited from an a...</td>\n",
       "      <td>2001</td>\n",
       "      <td>1</td>\n",
       "      <td>4</td>\n",
       "      <td>3</td>\n",
       "      <td>1</td>\n",
       "    </tr>\n",
       "    <tr>\n",
       "      <th>4</th>\n",
       "      <td>5</td>\n",
       "      <td>b</td>\n",
       "      <td>Many subatomic nuclear particles are _____ and...</td>\n",
       "      <td>Many subatomic nuclear particles are unstable ...</td>\n",
       "      <td>Many subatomic nuclear particles are elusive a...</td>\n",
       "      <td>Many subatomic nuclear particles are minute an...</td>\n",
       "      <td>Many subatomic nuclear particles are charged a...</td>\n",
       "      <td>Many subatomic nuclear particles are tenuous a...</td>\n",
       "      <td>2001</td>\n",
       "      <td>1</td>\n",
       "      <td>5</td>\n",
       "      <td>3</td>\n",
       "      <td>2</td>\n",
       "    </tr>\n",
       "  </tbody>\n",
       "</table>\n",
       "</div>"
      ],
      "text/plain": [
       "   id ans                                           question  \\\n",
       "0   1   e  Much of our knowledge of dinosaurs comes from ...   \n",
       "1   2   c  Responding to criticism that the script was ra...   \n",
       "2   3   e  Vernal pools are among the most _____ of ponds...   \n",
       "3   4   e  During the 1990s, Shanghai benefited from an a...   \n",
       "4   5   b  Many subatomic nuclear particles are _____ and...   \n",
       "\n",
       "                                                  a)  \\\n",
       "0  Much of our knowledge of dinosaurs comes from ...   \n",
       "1  Responding to criticism that the script was ra...   \n",
       "2  Vernal pools are among the most transitory of ...   \n",
       "3  During the 1990s, Shanghai benefited from an a...   \n",
       "4  Many subatomic nuclear particles are unstable ...   \n",
       "\n",
       "                                                  b)  \\\n",
       "0  Much of our knowledge of dinosaurs comes from ...   \n",
       "1  Responding to criticism that the script was ra...   \n",
       "2  Vernal pools are among the most anachronistic ...   \n",
       "3  During the 1990s, Shanghai benefited from an a...   \n",
       "4  Many subatomic nuclear particles are elusive a...   \n",
       "\n",
       "                                                  c)  \\\n",
       "0  Much of our knowledge of dinosaurs comes from ...   \n",
       "1  Responding to criticism that the script was ra...   \n",
       "2  Vernal pools are among the most immutable of p...   \n",
       "3  During the 1990s, Shanghai benefited from an a...   \n",
       "4  Many subatomic nuclear particles are minute an...   \n",
       "\n",
       "                                                  d)  \\\n",
       "0  Much of our knowledge of dinosaurs comes from ...   \n",
       "1  Responding to criticism that the script was ra...   \n",
       "2  Vernal pools are among the most itinerant of p...   \n",
       "3  During the 1990s, Shanghai benefited from an a...   \n",
       "4  Many subatomic nuclear particles are charged a...   \n",
       "\n",
       "                                                  e)  year  sec  num diff  \\\n",
       "0  Much of our knowledge of dinosaurs comes from ...  2001    1    1    1   \n",
       "1  Responding to criticism that the script was ra...  2001    1    2    1   \n",
       "2  Vernal pools are among the most ephemeral of p...  2001    1    3    2   \n",
       "3  During the 1990s, Shanghai benefited from an a...  2001    1    4    3   \n",
       "4  Many subatomic nuclear particles are tenuous a...  2001    1    5    3   \n",
       "\n",
       "   blanks  \n",
       "0       2  \n",
       "1       2  \n",
       "2       2  \n",
       "3       1  \n",
       "4       2  "
      ]
     },
     "execution_count": 27,
     "metadata": {},
     "output_type": "execute_result"
    }
   ],
   "source": [
    "for column_name in ['question', 'a)', 'b)', 'c)', 'd)', 'e)']:\n",
    "    sat[column_name] = sat[column_name].progress_apply(clean_base)\n",
    "sat.head()"
   ]
  },
  {
   "attachments": {},
   "cell_type": "markdown",
   "metadata": {},
   "source": [
    "## N-Grams\n",
    "This section is used for the tokenization of our text into N-Grams. Various tokenization approaches may yield different results. As such, it is important to test different approaches here. We begin by dividing each of the transcripts into its constituent sentences. These sentences are then each tokenized using the word tokenizer provided by nltk. A start and end of sentence tag is then added to each list of tokens. Next, these tokens are used to generate all possible n-grams below a certain size threshold. Lastly, we create a frequency distribution dictionary for the n-grams."
   ]
  },
  {
   "cell_type": "code",
   "execution_count": 28,
   "metadata": {},
   "outputs": [
    {
     "data": {
      "application/vnd.jupyter.widget-view+json": {
       "model_id": "b720024960804b038e990d471aa3ef84",
       "version_major": 2,
       "version_minor": 0
      },
      "text/plain": [
       "  0%|          | 0/8261 [00:00<?, ?it/s]"
      ]
     },
     "metadata": {},
     "output_type": "display_data"
    },
    {
     "name": "stdout",
     "output_type": "stream",
     "text": [
      "603547\n"
     ]
    }
   ],
   "source": [
    "# create a list of all of the sentences with each sentence tokenized.\n",
    "def tokenize_transcript(transcript):\n",
    "    token_document = [word_tokenize(t) for t in sent_detector.tokenize(transcript)]\n",
    "    sents = []\n",
    "    start_of_sentence = \"<sent>\"\n",
    "    end_of_sentence = \"<\\\\sent>\"\n",
    "    for sent in token_document:\n",
    "        sent.insert(0, start_of_sentence)\n",
    "        sent.append(end_of_sentence)\n",
    "        sents.append(sent)\n",
    "    return sents\n",
    "\n",
    "sents = []\n",
    "for transcript in tqdm(khan['clean_transcript']):\n",
    "    sents += tokenize_transcript(transcript)\n",
    "\n",
    "print(len(sents))"
   ]
  },
  {
   "cell_type": "code",
   "execution_count": 29,
   "metadata": {},
   "outputs": [
    {
     "name": "stdout",
     "output_type": "stream",
     "text": [
      "Computing all N-grams where N is 3 or less\n"
     ]
    },
    {
     "data": {
      "application/vnd.jupyter.widget-view+json": {
       "model_id": "9f74fb88b40942afb019a69d1cd1eca1",
       "version_major": 2,
       "version_minor": 0
      },
      "text/plain": [
       "  0%|          | 0/603547 [00:00<?, ?it/s]"
      ]
     },
     "metadata": {},
     "output_type": "display_data"
    },
    {
     "name": "stdout",
     "output_type": "stream",
     "text": [
      "Computing frequency distribution\n"
     ]
    }
   ],
   "source": [
    "n = 3\n",
    "print(\"Computing all N-grams where N is %d or less\" % n)\n",
    "grams = []\n",
    "for sent in tqdm(sents):\n",
    "    for i in range(0, 3):\n",
    "        # TODO: change to everygrams.\n",
    "        grams += list(ngrams(sent, i + 1))\n",
    "    \n",
    "print(\"Computing frequency distribution\")\n",
    "freq_dist = nltk.FreqDist(grams)"
   ]
  },
  {
   "cell_type": "code",
   "execution_count": 30,
   "metadata": {},
   "outputs": [
    {
     "data": {
      "text/plain": [
       "FreqDist({(',',): 633121, ('<sent>',): 603547, ('<\\\\sent>',): 603547, ('.',): 562507, ('.', '<\\\\sent>'): 562502, ('the',): 487131, ('is',): 352802, ('to',): 326556, ('of',): 275192, ('that',): 223332, ...})"
      ]
     },
     "execution_count": 30,
     "metadata": {},
     "output_type": "execute_result"
    }
   ],
   "source": [
    "freq_dist"
   ]
  },
  {
   "cell_type": "code",
   "execution_count": 31,
   "metadata": {},
   "outputs": [
    {
     "data": {
      "text/plain": [
       "633121"
      ]
     },
     "execution_count": 31,
     "metadata": {},
     "output_type": "execute_result"
    }
   ],
   "source": [
    "freq_dist[(',',)]"
   ]
  },
  {
   "cell_type": "code",
   "execution_count": 32,
   "metadata": {},
   "outputs": [
    {
     "data": {
      "text/plain": [
       "286"
      ]
     },
     "execution_count": 32,
     "metadata": {},
     "output_type": "execute_result"
    }
   ],
   "source": [
    "freq_dist[('among',)]"
   ]
  },
  {
   "attachments": {},
   "cell_type": "markdown",
   "metadata": {},
   "source": [
    "## Store Model\n",
    "The next step is to store the freq_dist model for use in future prediction methods."
   ]
  },
  {
   "cell_type": "code",
   "execution_count": 33,
   "metadata": {},
   "outputs": [
    {
     "name": "stdout",
     "output_type": "stream",
     "text": [
      "Saved freq_dist to file freq_dist.pkl\n"
     ]
    }
   ],
   "source": [
    "def to_pickle(filename, model):\n",
    "    with open(filename, 'wb') as fp:\n",
    "        pickle.dump(model, fp)\n",
    "        print(\"Saved %s to file %s\" % ('freq_dist', filename))\n",
    "        \n",
    "to_pickle(filename='freq_dist.pkl', model=freq_dist)"
   ]
  },
  {
   "attachments": {},
   "cell_type": "markdown",
   "metadata": {},
   "source": [
    "## Load Model\n",
    "load the stored model back in as practice."
   ]
  },
  {
   "cell_type": "code",
   "execution_count": 35,
   "metadata": {},
   "outputs": [
    {
     "data": {
      "text/plain": [
       "FreqDist({(',',): 633121, ('<sent>',): 603547, ('<\\\\sent>',): 603547, ('.',): 562507, ('.', '<\\\\sent>'): 562502, ('the',): 487131, ('is',): 352802, ('to',): 326556, ('of',): 275192, ('that',): 223332, ...})"
      ]
     },
     "execution_count": 35,
     "metadata": {},
     "output_type": "execute_result"
    }
   ],
   "source": [
    "def from_pickle(filename):\n",
    "    model = []\n",
    "    with open(filename, 'rb') as fp:\n",
    "        model = pickle.load(fp)\n",
    "    return model\n",
    "\n",
    "freq_dist = from_pickle(filename='freq_dist.pkl')\n",
    "freq_dist"
   ]
  },
  {
   "attachments": {},
   "cell_type": "markdown",
   "metadata": {},
   "source": [
    "## SAT Dataset\n",
    "This section focuses on the processing of individual SAT questions as well as defining a prediction method for the dataset. Below is a sample approach for the prediction method.\n",
    "\n",
    "### SAT Question Prediction Approach\n",
    "Note that this approach is slightly different from what was implemented. One of the main differences is that our tokenization currently includes punctuation as its own token whereas the below example removes punctuation.\n",
    "\n",
    "\"\"\"  \n",
    "Question:  \n",
    "Responding to criticism that the script was rambling and _____, the new screenwriter revised the dialogue for greater succinctness and _____.\n",
    "\n",
    "Possible Solutions:  \n",
    "[('engaging', 'simplicity'), ('subjective', 'abiguity'), ('muddled', 'clarity'), ('terse', 'emptiness'), ('difficult', 'abstraction')]  \n",
    "\"\"\"\n",
    "\n",
    "N-gram size of 4 max\n",
    "1. Change the blanks out to something we can use to mask the individual ones later. For example, [BLANK1] and [BLANK2].\n",
    "    - esponding to criticism that the script was rambling and [BLANK1], the new screenwriter revised the dialogue for greater succinctness and [BLANK2].<\\sent>\n",
    "2. Pull out the possible sliding windows centered around each blank.\n",
    "    - blank 1\n",
    "        - n=4\n",
    "            - ('was', 'rambling', 'and', [BLANK1])\n",
    "            - ('rambling', 'and', [BLANK1], 'the')\n",
    "            - ('and', [BLANK1], 'the', 'new')\n",
    "            - ([BLANK1], 'the', 'new', 'screenwriter')\n",
    "        - n=3\n",
    "            - ('rambling', 'and', [BLANK1])\n",
    "            - ('and', [BLANK1], 'the')\n",
    "            - ([BLANK1], 'the', 'new')\n",
    "        - n=2\n",
    "            - ('and', [BLANK1])\n",
    "            - ([BLANK1], 'the')\n",
    "        - n=1\n",
    "            - ([BLANK1])\n",
    "    - blank 2\n",
    "        - n=4\n",
    "            - ('greater', 'succinctness', 'and', [BLANK2])\n",
    "            - ('succinctness', 'and', [BLANK2], <\\sent>)\n",
    "        - n=3\n",
    "            - ('succinctness', 'and', [BLANK2])\n",
    "            - ('and', [BLANK2], <\\sent>)\n",
    "        - n=2\n",
    "            - ('and', [BLANK2])\n",
    "            - ([BLANK2], <\\sent>)\n",
    "        - n=1\n",
    "            - ([BLANK2])\n",
    "3. For each of the possible solutions:\n",
    "    1. For each of the windows:\n",
    "        1. If the first or second word in the possible solution tuple is not in the vocab then discard it as a possible solution.\n",
    "        2. Replace [BLANK1] with the first item in the possible solution tuple\n",
    "        3. Replace [BLANK2] with the second item in the possible solution tuple\n",
    "        4. Lookup each of the window n-grams against the stored n-grams and determine how many times it occured.\n",
    "        5. What to do if the count for a n-gram is 0 for one word but not for another word?\n",
    "        6. Calculate the probability of each window n-gram\n",
    "        7. sum the logs of the probabilities of each window n-gram. \n",
    "    2. Determine which of the windows had the highest log likelihood and return the associated word tuple."
   ]
  },
  {
   "cell_type": "code",
   "execution_count": 36,
   "metadata": {},
   "outputs": [
    {
     "name": "stdout",
     "output_type": "stream",
     "text": [
      "compute the windows\n",
      "mask indicies = [10, 22]\n",
      "[('engaging', 'simplicity'), ('subjective', 'ambiguity'), ('muddled', 'clarity'), ('terse', 'emptiness'), ('difficult', 'abstraction')]\n",
      "[['rambling', 'and', '_____0'], ['and', '_____0', ','], ['_____0', ',', 'the'], ['and', '_____0'], ['_____0', ','], ['_____0'], ['succinctness', 'and', '_____1'], ['and', '_____1', '.'], ['and', '_____1'], ['_____1', '.'], ['_____1']]\n",
      "['<sent>', 'Responding', 'to', 'criticism', 'that', 'the', 'script', 'was', 'rambling', 'and', '_____0', ',', 'the', 'new', 'screenwriter', 'revised', 'the', 'dialogue', 'for', 'greater', 'succinctness', 'and', '_____1', '.', '<\\\\sent>']\n"
     ]
    }
   ],
   "source": [
    "def tokenize_question(question):\n",
    "    if not isinstance(question, str) or question is None:\n",
    "        return []\n",
    "    sent = word_tokenize(question)\n",
    "    start_of_sentence = \"<sent>\"\n",
    "    end_of_sentence = \"<\\\\sent>\"\n",
    "    sent.insert(0, start_of_sentence)\n",
    "    sent.append(end_of_sentence)\n",
    "    return sent\n",
    "\n",
    "def get_mask_indices(row, mask='_____'):\n",
    "    \"\"\"Returns a list containing the integer indices of where the mask occurs for a given row of the SAT dataset.\n",
    "\n",
    "    Args:\n",
    "        row : a given row of the SAT dataset\n",
    "        mask (str, optional): the mask to look for the indicies of occurance of. Defaults to '_____'.\n",
    "\n",
    "    Returns:\n",
    "        list: contains integer indices of where the mask occurs for a given row of the SAT dataset\n",
    "    \"\"\"\n",
    "    mask_indices = []\n",
    "    previous_idx = 0\n",
    "    for blank_id in range(row['blanks']):\n",
    "        idx = tokenize_question(row['question']).index(mask, previous_idx)\n",
    "        mask_indices.append(idx)\n",
    "        previous_idx = idx + 1\n",
    "    return mask_indices\n",
    "\n",
    "def extract_possible_solutions(row, mask_indices):\n",
    "    \"\"\"computes the possible solutions that can fill in the blanks for a given question in a row of the SAT dataset.\n",
    "    The possible solutions come from the a-e columns of the row while the question itself comes from the question column.\n",
    "\n",
    "    Args:\n",
    "        row (_type_): a given row of the SAT dataset.\n",
    "        mask_indices (list): list containing integer indices of where the mask occurs for a given row of the SAT dataset.\n",
    "\n",
    "    Returns:\n",
    "        list: a list of tuples. Each tuple contains the possible solutions in their respective order to the question.\n",
    "    \"\"\"\n",
    "    possible_solutions = []\n",
    "    for i in ['a)', 'b)', 'c)', 'd)', 'e)']:\n",
    "        if i in row:\n",
    "            # print(test[i])\n",
    "            tokens = tokenize_question(row[i])\n",
    "            if tokens:\n",
    "                possible_solution = []\n",
    "                for mask_idx in mask_indices:\n",
    "                    possible_solution.append(tokens[mask_idx])\n",
    "                possible_solutions.append(tuple(possible_solution))\n",
    "    return possible_solutions\n",
    "\n",
    "def get_ngrams_with_mask(mask_indices, tokenized_question, n, mask='_____'):\n",
    "    \"\"\"This method is used to compute the sliding window for the original n-gram size as well\n",
    "    as each of the subsequently smaller sizes of n. This method requires the variable 'n' to\n",
    "    be defined globally for the maximum n-gram size to look for.\n",
    "\n",
    "    Args:\n",
    "        mask_indices (list): list containing integer indices of where the mask occurs for a given row of the SAT dataset.\n",
    "        tokenized_question (list): list comprised of the individual tokens that were parsed from the input question\n",
    "        n (int): the maximum n-gram size to use.\n",
    "        mask (str, optional): the mask to look for the indicies of occurance of. Defaults to '_____'.\n",
    "        \n",
    "\n",
    "    Returns:\n",
    "        list: A list containing tuples of each n-gram is returned. If more than one \n",
    "    \"\"\"\n",
    "    ranges = []\n",
    "    count = 0\n",
    "    for mask_idx in mask_indices:\n",
    "        remask = mask + str(count)\n",
    "        tokenized_question[mask_idx] = remask\n",
    "        count += 1\n",
    "        # print(\"\\nmask_idx = %d\" % mask_idx)\n",
    "        for i in range(n, 0, -1):  # for each successively smaller n-gram size\n",
    "            # print(\"n = %d\" % i)\n",
    "            upper_bound = mask_idx + 1\n",
    "            lower_bound = mask_idx - i + 1\n",
    "            if lower_bound >= 0 and upper_bound < len(tokenized_question):\n",
    "                ranges.append((lower_bound, upper_bound))\n",
    "                # print(\"range(%d, %d)\" % (lower_bound, upper_bound))\n",
    "            for j in range(1, i):  # already processed first n-gram for size i. Now process the rest where j is the offset.\n",
    "                upper_bound += 1\n",
    "                lower_bound += 1\n",
    "                if lower_bound >= 0 and upper_bound < len(tokenized_question):\n",
    "                    ranges.append((lower_bound, upper_bound))\n",
    "                    # print(\"range(%d, %d)\" % (lower_bound, upper_bound))\n",
    "    n_grams = []\n",
    "    for indices in ranges:\n",
    "        n_gram = []\n",
    "        for i in range(indices[0], indices[1]):\n",
    "            n_gram.append(tokenized_question[i])\n",
    "        n_grams.append(n_gram)\n",
    "        \n",
    "    return n_grams\n",
    "    \n",
    "    \n",
    "print(\"compute the windows\")\n",
    "test = sat.iloc[1]\n",
    "mask = \"_____\"\n",
    "mask_indices = get_mask_indices(test)\n",
    "tokenized_question = tokenize_question(test['question'])\n",
    "possible_solutions = extract_possible_solutions(test, mask_indices)\n",
    "windows = get_ngrams_with_mask(mask_indices, tokenized_question, n=3)\n",
    "print(\"mask indicies = %s\" % str(mask_indices))\n",
    "print(possible_solutions)\n",
    "print(windows)\n",
    "print(tokenized_question)"
   ]
  },
  {
   "cell_type": "code",
   "execution_count": 37,
   "metadata": {},
   "outputs": [
    {
     "name": "stdout",
     "output_type": "stream",
     "text": [
      "Best Answer: ('muddled', 'clarity')\n"
     ]
    }
   ],
   "source": [
    "def find_best_answer(possible_solutions, windows, freq_dist, mask='_____'):\n",
    "    \"\"\"method used to determine which one of the possible solutions is the most likely answer.\n",
    "\n",
    "    Args:\n",
    "        possible_solutions (list): list of tuples where each tuple is one of the possible solutions to fill in the blanks in the sentence.\n",
    "        windows (list): the windows of n-grams. These windows are centered around the locations of the blanks in the sentence.\n",
    "        freq_dist (dict): a dictionary where the key is a n-gram as a tuple and the value is the frequency count of the n-gram tuple.\n",
    "        mask (str, optional): the mask to look for the indicies of occurance of. Defaults to '_____'.\n",
    "\n",
    "    Returns:\n",
    "        (tuple): the tuple containing the words from the best possible solution predicted.\n",
    "    \"\"\"\n",
    "    log_likelihood_given_solution = []\n",
    "    for possible_solution in possible_solutions:  # compute the log likelihood of each possible solution.\n",
    "        # print(\"\\nGenerating Solutions For: %s\" % (possible_solution,))\n",
    "        log_likelihood = 0\n",
    "        for window in windows:  # go through each of the generated windows and find its probability.\n",
    "            for i in range(len(possible_solution)):  # replace the masks with each of the possible solution words\n",
    "                window = list(map(lambda x: x.replace(mask + str(i), possible_solution[i]), window))\n",
    "            # print(window)\n",
    "            ngram_size = len(window)\n",
    "            raw_ngram_count = freq_dist[tuple(window)]\n",
    "            if raw_ngram_count > 0:  # the ngram occurs in our corpus\n",
    "                ngram_count_of_prior = 1  # default to 1 for unigrams\n",
    "                if ngram_size > 1:  # not a unigram so we need to find the count of the 'given' ngram\n",
    "                    prior = window[0: len(window)-1]\n",
    "                    ngram_count_of_prior = freq_dist[tuple(prior)]\n",
    "                vocab = 0\n",
    "                raw_probability = raw_ngram_count / (ngram_count_of_prior + vocab)\n",
    "                log_probability = math.log10(raw_probability)\n",
    "                log_likelihood += log_probability\n",
    "        # print(\"Log Likelihood = %.2f\" % log_likelihood)\n",
    "        log_likelihood_given_solution.append((possible_solution, log_likelihood))\n",
    "    log_likelihood_given_solution.sort(key = lambda x: x[1], reverse = True)\n",
    "    answer = log_likelihood_given_solution[0][0]\n",
    "    # print(\"Best Answer: %s\" % (answer, ))\n",
    "    # print(\"sorted likelihoods per possible solution:\\n%s\" % str(log_likelihood_given_solution))\n",
    "    return answer\n",
    "\n",
    "best_answer = find_best_answer(possible_solutions, windows, freq_dist)\n",
    "print(\"Best Answer: %s\" % (best_answer, ))"
   ]
  },
  {
   "cell_type": "code",
   "execution_count": 38,
   "metadata": {},
   "outputs": [
    {
     "name": "stdout",
     "output_type": "stream",
     "text": [
      "The predicted answer is in column c\n"
     ]
    }
   ],
   "source": [
    "def determine_prediction_based_on_best_answer(best_answer, row, mask_indices):\n",
    "    \"\"\"method to determine the column name of the best answer\n",
    "\n",
    "    Args:\n",
    "        best_answer (tuple): the tuple containing the words from the best possible solution predicted.\n",
    "        row : a row in the pandas data frame for the SAT dataset.\n",
    "        mask_indices (list): list containing the indices of where the mask (blanks) occur.\n",
    "\n",
    "    Returns:\n",
    "        str: the column name corresponding to the best answer.\n",
    "    \"\"\"\n",
    "    for col in ['a)', 'b)', 'c)', 'd)', 'e)']:\n",
    "        if col in row:\n",
    "            tokens = tokenize_question(row[col])\n",
    "            result = True\n",
    "            count = 0\n",
    "            for mask_idx in mask_indices:\n",
    "                if tokens[mask_idx] != best_answer[count]:\n",
    "                    result = False\n",
    "                count += 1\n",
    "            if result:\n",
    "                return col.replace(\")\", \"\")\n",
    "        \n",
    "prediction = determine_prediction_based_on_best_answer(best_answer, test, mask_indices)\n",
    "print(\"The predicted answer is in column %s\" % prediction)"
   ]
  },
  {
   "cell_type": "code",
   "execution_count": 39,
   "metadata": {},
   "outputs": [
    {
     "name": "stdout",
     "output_type": "stream",
     "text": [
      "Prediction: ['c']\n",
      "True Value: ['c']\n",
      "[ACCURACY]     : 1.000\n",
      "[PRECISION]    : 1.000\n",
      "[RECALL]       : 1.000\n",
      "[F1-SCORE]     : 1.000\n"
     ]
    }
   ],
   "source": [
    "def predict(row):\n",
    "    # parse the incoming question\n",
    "    mask = \"_____\"\n",
    "    mask_indices = get_mask_indices(row, mask=mask)\n",
    "    tokenized_question = tokenize_question(row['question'])\n",
    "    possible_solutions = extract_possible_solutions(row, mask_indices)\n",
    "    windows = get_ngrams_with_mask(mask_indices, tokenized_question, n=3, mask=mask)\n",
    "    # Look against the model. Changing the freq_dist used should allow us to try different models.\n",
    "    # TODO: what if we try to use an ensemble of models with different maximum n-gram sizes?\n",
    "    best_answer = find_best_answer(possible_solutions, windows, freq_dist, mask=mask)  # note that freq_dist is a global here.\n",
    "    prediction = determine_prediction_based_on_best_answer(best_answer, row, mask_indices)\n",
    "    return prediction\n",
    "\n",
    "def score(y_true, y_pred):\n",
    "    print(\"%-15s: %.3f\" % (\"[ACCURACY]\", accuracy_score(y_true, y_pred)))\n",
    "    print(\"%-15s: %.3f\" % (\"[PRECISION]\", precision_score(y_true, y_pred, average='weighted')))\n",
    "    print(\"%-15s: %.3f\" % (\"[RECALL]\", recall_score(y_true, y_pred, average='weighted')))\n",
    "    print(\"%-15s: %.3f\" % (\"[F1-SCORE]\", f1_score(y_true, y_pred, average='weighted')))    \n",
    "\n",
    "# test the prediction method.\n",
    "prediction = [predict(test)]\n",
    "print(\"Prediction: %s\" % prediction)\n",
    "true_value = [test['ans']]\n",
    "print(\"True Value: %s\" % true_value)\n",
    "score(true_value, prediction)"
   ]
  },
  {
   "attachments": {},
   "cell_type": "markdown",
   "metadata": {},
   "source": [
    "## Predictions\n",
    "This section is used to actually compute the predictions for our test data and our given input frequency distribution. The results of the prediction are then evaluated."
   ]
  },
  {
   "cell_type": "code",
   "execution_count": 41,
   "metadata": {},
   "outputs": [
    {
     "data": {
      "application/vnd.jupyter.widget-view+json": {
       "model_id": "35aa47a642b34b369ef58e6d1281113d",
       "version_major": 2,
       "version_minor": 0
      },
      "text/plain": [
       "  0%|          | 0/152 [00:00<?, ?it/s]"
      ]
     },
     "metadata": {},
     "output_type": "display_data"
    },
    {
     "name": "stdout",
     "output_type": "stream",
     "text": [
      "[ACCURACY]     : 0.158\n",
      "[PRECISION]    : 0.159\n",
      "[RECALL]       : 0.158\n",
      "[F1-SCORE]     : 0.155\n"
     ]
    }
   ],
   "source": [
    "# skf = StratifiedKFold(n_splits=10, random_state=42, shuffle=False)\n",
    "# for i, (train_index, test_index) in enumerate(skf.split(X, y)):\n",
    "predictions = sat.progress_apply(lambda row: predict(row), axis=1)\n",
    "predictions\n",
    "true_values = sat['ans']\n",
    "score(true_values, predictions)"
   ]
  },
  {
   "cell_type": "code",
   "execution_count": 43,
   "metadata": {},
   "outputs": [],
   "source": [
    "def record_model_metrics_as_json(y_true, y_pred):\n",
    "    metrics = {}\n",
    "    metrics['accuracy_score'] = accuracy_score(y_true, y_pred)\n",
    "    metrics['precision_score'] = precision_score(y_true, y_pred, average='weighted')\n",
    "    metrics['recall_score'] = recall_score(y_true, y_pred, average='weighted')\n",
    "    metrics['f1_score'] = f1_score(y_true, y_pred, average='weighted')\n",
    "    return metrics"
   ]
  },
  {
   "cell_type": "code",
   "execution_count": 44,
   "metadata": {},
   "outputs": [],
   "source": [
    "sat_metrics = record_model_metrics_as_json(true_values, predictions)"
   ]
  },
  {
   "cell_type": "code",
   "execution_count": 45,
   "metadata": {},
   "outputs": [
    {
     "name": "stdout",
     "output_type": "stream",
     "text": [
      "              precision    recall  f1-score   support\n",
      "\n",
      "           a       0.19      0.25      0.21        32\n",
      "           b       0.15      0.11      0.13        37\n",
      "           c       0.15      0.19      0.17        27\n",
      "           d       0.08      0.09      0.09        22\n",
      "           e       0.19      0.15      0.17        34\n",
      "\n",
      "    accuracy                           0.16       152\n",
      "   macro avg       0.15      0.16      0.15       152\n",
      "weighted avg       0.16      0.16      0.16       152\n",
      "\n"
     ]
    }
   ],
   "source": [
    "print(classification_report(true_values, predictions))"
   ]
  },
  {
   "cell_type": "code",
   "execution_count": 46,
   "metadata": {},
   "outputs": [
    {
     "data": {
      "text/plain": [
       "<sklearn.metrics._plot.confusion_matrix.ConfusionMatrixDisplay at 0x10f97a4f5b0>"
      ]
     },
     "execution_count": 46,
     "metadata": {},
     "output_type": "execute_result"
    },
    {
     "data": {
      "image/png": "[encoded data removed]",
      "text/plain": [
       "<Figure size 800x600 with 2 Axes>"
      ]
     },
     "metadata": {},
     "output_type": "display_data"
    }
   ],
   "source": [
    "conf = confusion_matrix(true_values, predictions)\n",
    "fig, ax = plt.subplots(figsize=(8,6), dpi=100)\n",
    "display = ConfusionMatrixDisplay(conf, display_labels=['a', 'b', 'c', 'd', 'e'])\n",
    "ax.set(title='Confusion Matrix for SAT sentence completion')\n",
    "display.plot(ax=ax)"
   ]
  },
  {
   "cell_type": "code",
   "execution_count": 47,
   "metadata": {},
   "outputs": [
    {
     "name": "stdout",
     "output_type": "stream",
     "text": [
      "Counter({'b': 37, 'e': 34, 'a': 32, 'c': 27, 'd': 22})\n",
      "Counter({'a': 43, 'c': 33, 'e': 26, 'b': 26, 'd': 24})\n"
     ]
    }
   ],
   "source": [
    "print(Counter(sat['ans']))\n",
    "print(Counter(predictions))"
   ]
  },
  {
   "cell_type": "code",
   "execution_count": 48,
   "metadata": {},
   "outputs": [
    {
     "data": {
      "image/png": "[encoded data removed]",
      "text/plain": [
       "<Figure size 640x480 with 1 Axes>"
      ]
     },
     "metadata": {},
     "output_type": "display_data"
    }
   ],
   "source": [
    "sns.countplot(x=predictions)\n",
    "plt.show()"
   ]
  },
  {
   "attachments": {},
   "cell_type": "markdown",
   "metadata": {},
   "source": [
    "## Evaluation of Results\n",
    "Our model does not perform that well currently. We hypothesize that this is due to both the complexity of the words in the SAT question dataset as well as the size of our input dataset. Our input dataset is only comprised of around 600,000 sentences. Additionally, our input dataset comes from spoken lecture transcripts. While these transcripts should be on fairly complex topics, they still contain mostly spoken language. The SAT question dataset prompts are more complex than the language spoken in our input dataset. This leads to a mismatch between our corpus and training data where most of our n-grams either have low counts or do not exist in our corpus. This could be remedied by expanding the size of our input dataset and thusly our corpus. The research paper that our test dataset came from compiled their corpus on over 1.1 billion words in newspaper articles. Even with this large increase in corpus size they still only achieved a prediction accuracy of just over 50% on the testing dataset. This implies that the test dataset is fairly difficult to get high accuracy scores on.\n",
    "\n",
    "Note that we did not perform cross validation on our system. The primary reason for this is due to cross validation not making sense in our case. We have created a corpus and are trying to compute the accuracy of our corpus using a test set. As we are not directly training a model, it does not make sense to perform cross validation only over our test set.\n",
    "\n",
    "## Additionl Dataset Note\n",
    "[Note] One additional area of improvement that we should also test is improving the size of our test set. I found another dataset that will work for this from the paper [SC-Ques: A Sentence Completion Question Dataset for English as a Second Language Learners](https://arxiv.org/abs/2206.12036). They provided a [link to their code and their data](https://github.com/ai4ed/SC-Ques) for research purposes. This, in turn, gave a link to a [dropbox containing their data](https://www.dropbox.com/s/lzznin2hxt6rmft/SC-Ques.tar.gz?dl=0). The data that we would be looking to use to expand our training set would be found in test.jsons and train.jsons. These two files have been preprocessed in the SC-Ques-Preprocessing.ipynb notebook and saved to the individual processed_data_idx.csv files. They were stored as multiple files due to space limitations with GitHub repositories.\n",
    "\n",
    "The below section is used to read in and join each of the processed_data_idx.csv files. There should be no need to run the SC-Ques-Preprocessing.ipynb script and is only included for posterity."
   ]
  },
  {
   "cell_type": "code",
   "execution_count": 49,
   "metadata": {},
   "outputs": [
    {
     "name": "stdout",
     "output_type": "stream",
     "text": [
      "Datasets\\SC-Ques\\processed_data_0.csv\n",
      "Datasets\\SC-Ques\\processed_data_1.csv\n",
      "Datasets\\SC-Ques\\processed_data_10.csv\n",
      "Datasets\\SC-Ques\\processed_data_11.csv\n",
      "Datasets\\SC-Ques\\processed_data_12.csv\n",
      "Datasets\\SC-Ques\\processed_data_13.csv\n",
      "Datasets\\SC-Ques\\processed_data_14.csv\n",
      "Datasets\\SC-Ques\\processed_data_15.csv\n",
      "Datasets\\SC-Ques\\processed_data_16.csv\n",
      "Datasets\\SC-Ques\\processed_data_17.csv\n",
      "Datasets\\SC-Ques\\processed_data_18.csv\n",
      "Datasets\\SC-Ques\\processed_data_19.csv\n",
      "Datasets\\SC-Ques\\processed_data_2.csv\n",
      "Datasets\\SC-Ques\\processed_data_3.csv\n",
      "Datasets\\SC-Ques\\processed_data_4.csv\n",
      "Datasets\\SC-Ques\\processed_data_5.csv\n",
      "Datasets\\SC-Ques\\processed_data_6.csv\n",
      "Datasets\\SC-Ques\\processed_data_7.csv\n",
      "Datasets\\SC-Ques\\processed_data_8.csv\n",
      "Datasets\\SC-Ques\\processed_data_9.csv\n"
     ]
    },
    {
     "data": {
      "text/html": [
       "<div>\n",
       "<style scoped>\n",
       "    .dataframe tbody tr th:only-of-type {\n",
       "        vertical-align: middle;\n",
       "    }\n",
       "\n",
       "    .dataframe tbody tr th {\n",
       "        vertical-align: top;\n",
       "    }\n",
       "\n",
       "    .dataframe thead th {\n",
       "        text-align: right;\n",
       "    }\n",
       "</style>\n",
       "<table border=\"1\" class=\"dataframe\">\n",
       "  <thead>\n",
       "    <tr style=\"text-align: right;\">\n",
       "      <th></th>\n",
       "      <th>question</th>\n",
       "      <th>ans</th>\n",
       "      <th>blanks</th>\n",
       "      <th>a)</th>\n",
       "      <th>b)</th>\n",
       "      <th>c)</th>\n",
       "      <th>d)</th>\n",
       "      <th>e)</th>\n",
       "    </tr>\n",
       "  </thead>\n",
       "  <tbody>\n",
       "    <tr>\n",
       "      <th>0</th>\n",
       "      <td>The plane is scheduled to arrive _____ because...</td>\n",
       "      <td>c</td>\n",
       "      <td>1</td>\n",
       "      <td>The plane is scheduled to arrive latest becaus...</td>\n",
       "      <td>The plane is scheduled to arrive later because...</td>\n",
       "      <td>The plane is scheduled to arrive late because ...</td>\n",
       "      <td>NaN</td>\n",
       "      <td>NaN</td>\n",
       "    </tr>\n",
       "    <tr>\n",
       "      <th>1</th>\n",
       "      <td>_____ he was preparing food for tomorrow's pa...</td>\n",
       "      <td>b</td>\n",
       "      <td>1</td>\n",
       "      <td>Because he was preparing food for tomorrow's p...</td>\n",
       "      <td>While he was preparing food for tomorrow's par...</td>\n",
       "      <td>If he was preparing food for tomorrow's party,...</td>\n",
       "      <td>NaN</td>\n",
       "      <td>NaN</td>\n",
       "    </tr>\n",
       "    <tr>\n",
       "      <th>2</th>\n",
       "      <td>I don't like the people _____ may get angry ea...</td>\n",
       "      <td>d</td>\n",
       "      <td>1</td>\n",
       "      <td>I don't like the people who may get angry easily.</td>\n",
       "      <td>I don't like the people that may get angry eas...</td>\n",
       "      <td>I don't like the people which may get angry ea...</td>\n",
       "      <td>I don't like the people both may get angry eas...</td>\n",
       "      <td>NaN</td>\n",
       "    </tr>\n",
       "    <tr>\n",
       "      <th>3</th>\n",
       "      <td>Stop making so much noise. It is _____ to the ...</td>\n",
       "      <td>c</td>\n",
       "      <td>1</td>\n",
       "      <td>Stop making so much noise. It is comfortable t...</td>\n",
       "      <td>Stop making so much noise. It is relaxed to th...</td>\n",
       "      <td>Stop making so much noise. It is harmful to th...</td>\n",
       "      <td>NaN</td>\n",
       "      <td>NaN</td>\n",
       "    </tr>\n",
       "    <tr>\n",
       "      <th>4</th>\n",
       "      <td>Charles Dickens _____ a lot of novels.</td>\n",
       "      <td>b</td>\n",
       "      <td>1</td>\n",
       "      <td>Charles Dickens write a lot of novels.</td>\n",
       "      <td>Charles Dickens wrote a lot of novels.</td>\n",
       "      <td>Charles Dickens writes a lot of novels.</td>\n",
       "      <td>NaN</td>\n",
       "      <td>NaN</td>\n",
       "    </tr>\n",
       "    <tr>\n",
       "      <th>...</th>\n",
       "      <td>...</td>\n",
       "      <td>...</td>\n",
       "      <td>...</td>\n",
       "      <td>...</td>\n",
       "      <td>...</td>\n",
       "      <td>...</td>\n",
       "      <td>...</td>\n",
       "      <td>...</td>\n",
       "    </tr>\n",
       "    <tr>\n",
       "      <th>14452</th>\n",
       "      <td>If you keep _____ this, your English handwriti...</td>\n",
       "      <td>b</td>\n",
       "      <td>1</td>\n",
       "      <td>If you keep do this, your English handwriting ...</td>\n",
       "      <td>If you keep doing this, your English handwriti...</td>\n",
       "      <td>If you keep to do this, your English handwriti...</td>\n",
       "      <td>If you keep does this, your English handwritin...</td>\n",
       "      <td>NaN</td>\n",
       "    </tr>\n",
       "    <tr>\n",
       "      <th>14453</th>\n",
       "      <td>Two days later, the fighting between the two c...</td>\n",
       "      <td>c</td>\n",
       "      <td>1</td>\n",
       "      <td>Two days later, the fighting between the two c...</td>\n",
       "      <td>Two days later, the fighting between the two c...</td>\n",
       "      <td>Two days later, the fighting between the two c...</td>\n",
       "      <td>Two days later, the fighting between the two c...</td>\n",
       "      <td>NaN</td>\n",
       "    </tr>\n",
       "    <tr>\n",
       "      <th>14454</th>\n",
       "      <td>What he had said about the incident and done w...</td>\n",
       "      <td>b</td>\n",
       "      <td>1</td>\n",
       "      <td>What he had said about the incident and done w...</td>\n",
       "      <td>What he had said about the incident and done w...</td>\n",
       "      <td>What he had said about the incident and done w...</td>\n",
       "      <td>What he had said about the incident and done w...</td>\n",
       "      <td>NaN</td>\n",
       "    </tr>\n",
       "    <tr>\n",
       "      <th>14455</th>\n",
       "      <td>Get up quickly, Lisa! You have _____ time to h...</td>\n",
       "      <td>c</td>\n",
       "      <td>1</td>\n",
       "      <td>Get up quickly, Lisa! You have a few time to h...</td>\n",
       "      <td>Get up quickly, Lisa! You have many time to ha...</td>\n",
       "      <td>Get up quickly, Lisa! You have no time to have...</td>\n",
       "      <td>NaN</td>\n",
       "      <td>NaN</td>\n",
       "    </tr>\n",
       "    <tr>\n",
       "      <th>14456</th>\n",
       "      <td>I'm sure more waste _____ because we're going ...</td>\n",
       "      <td>d</td>\n",
       "      <td>1</td>\n",
       "      <td>I'm sure more waste recycles because we're goi...</td>\n",
       "      <td>I'm sure more waste is recycling because we're...</td>\n",
       "      <td>I'm sure more waste is recycled because we're ...</td>\n",
       "      <td>I'm sure more waste will be recycled because w...</td>\n",
       "      <td>NaN</td>\n",
       "    </tr>\n",
       "  </tbody>\n",
       "</table>\n",
       "<p>289148 rows × 8 columns</p>\n",
       "</div>"
      ],
      "text/plain": [
       "                                                question ans  blanks  \\\n",
       "0      The plane is scheduled to arrive _____ because...   c       1   \n",
       "1       _____ he was preparing food for tomorrow's pa...   b       1   \n",
       "2      I don't like the people _____ may get angry ea...   d       1   \n",
       "3      Stop making so much noise. It is _____ to the ...   c       1   \n",
       "4                Charles Dickens _____ a lot of novels.    b       1   \n",
       "...                                                  ...  ..     ...   \n",
       "14452  If you keep _____ this, your English handwriti...   b       1   \n",
       "14453  Two days later, the fighting between the two c...   c       1   \n",
       "14454  What he had said about the incident and done w...   b       1   \n",
       "14455  Get up quickly, Lisa! You have _____ time to h...   c       1   \n",
       "14456  I'm sure more waste _____ because we're going ...   d       1   \n",
       "\n",
       "                                                      a)  \\\n",
       "0      The plane is scheduled to arrive latest becaus...   \n",
       "1      Because he was preparing food for tomorrow's p...   \n",
       "2      I don't like the people who may get angry easily.   \n",
       "3      Stop making so much noise. It is comfortable t...   \n",
       "4                 Charles Dickens write a lot of novels.   \n",
       "...                                                  ...   \n",
       "14452  If you keep do this, your English handwriting ...   \n",
       "14453  Two days later, the fighting between the two c...   \n",
       "14454  What he had said about the incident and done w...   \n",
       "14455  Get up quickly, Lisa! You have a few time to h...   \n",
       "14456  I'm sure more waste recycles because we're goi...   \n",
       "\n",
       "                                                      b)  \\\n",
       "0      The plane is scheduled to arrive later because...   \n",
       "1      While he was preparing food for tomorrow's par...   \n",
       "2      I don't like the people that may get angry eas...   \n",
       "3      Stop making so much noise. It is relaxed to th...   \n",
       "4                 Charles Dickens wrote a lot of novels.   \n",
       "...                                                  ...   \n",
       "14452  If you keep doing this, your English handwriti...   \n",
       "14453  Two days later, the fighting between the two c...   \n",
       "14454  What he had said about the incident and done w...   \n",
       "14455  Get up quickly, Lisa! You have many time to ha...   \n",
       "14456  I'm sure more waste is recycling because we're...   \n",
       "\n",
       "                                                      c)  \\\n",
       "0      The plane is scheduled to arrive late because ...   \n",
       "1      If he was preparing food for tomorrow's party,...   \n",
       "2      I don't like the people which may get angry ea...   \n",
       "3      Stop making so much noise. It is harmful to th...   \n",
       "4                Charles Dickens writes a lot of novels.   \n",
       "...                                                  ...   \n",
       "14452  If you keep to do this, your English handwriti...   \n",
       "14453  Two days later, the fighting between the two c...   \n",
       "14454  What he had said about the incident and done w...   \n",
       "14455  Get up quickly, Lisa! You have no time to have...   \n",
       "14456  I'm sure more waste is recycled because we're ...   \n",
       "\n",
       "                                                      d)  e)  \n",
       "0                                                    NaN NaN  \n",
       "1                                                    NaN NaN  \n",
       "2      I don't like the people both may get angry eas... NaN  \n",
       "3                                                    NaN NaN  \n",
       "4                                                    NaN NaN  \n",
       "...                                                  ...  ..  \n",
       "14452  If you keep does this, your English handwritin... NaN  \n",
       "14453  Two days later, the fighting between the two c... NaN  \n",
       "14454  What he had said about the incident and done w... NaN  \n",
       "14455                                                NaN NaN  \n",
       "14456  I'm sure more waste will be recycled because w... NaN  \n",
       "\n",
       "[289148 rows x 8 columns]"
      ]
     },
     "execution_count": 49,
     "metadata": {},
     "output_type": "execute_result"
    }
   ],
   "source": [
    "directory_path = Path(\"Datasets\\\\SC-Ques\")\n",
    "sc_ques = pd.DataFrame()\n",
    "for data_path in directory_path.glob(\"**\\\\Processed_data_*.csv\"):\n",
    "    print(data_path)\n",
    "    data = pd.read_csv(data_path)\n",
    "    sc_ques = pd.concat([sc_ques, data])\n",
    "sc_ques = sc_ques.drop(columns=['Unnamed: 0'])\n",
    "sc_ques"
   ]
  },
  {
   "cell_type": "code",
   "execution_count": 68,
   "metadata": {},
   "outputs": [
    {
     "name": "stdout",
     "output_type": "stream",
     "text": [
      "—Do you often do some _____ in the morning? —Yes, I do morning _____ . \n",
      "—Do you often do some exercise in the morning? —Yes, I do morning exercise .\n",
      "—Do you often do some exercises in the morning? —Yes, I do morning exercises .\n",
      "—Do you often do some exercise in the morning? —Yes, I do morning exercises .\n",
      "—Do you often do some exercises in the morning? —Yes, I do morning exercise .\n"
     ]
    }
   ],
   "source": [
    "test = sc_ques.iloc[89546]\n",
    "print(test['question'])\n",
    "print(test['a)'])\n",
    "print(test['b)'])\n",
    "print(test['c)'])\n",
    "print(test['d)'])\n"
   ]
  },
  {
   "cell_type": "code",
   "execution_count": 51,
   "metadata": {},
   "outputs": [
    {
     "name": "stdout",
     "output_type": "stream",
     "text": [
      "Prediction: ['b']\n",
      "True Value: ['b']\n",
      "[ACCURACY]     : 1.000\n",
      "[PRECISION]    : 1.000\n",
      "[RECALL]       : 1.000\n",
      "[F1-SCORE]     : 1.000\n"
     ]
    }
   ],
   "source": [
    "prediction = [predict(test)]\n",
    "print(\"Prediction: %s\" % prediction)\n",
    "true_value = [test['ans']]\n",
    "print(\"True Value: %s\" % true_value)\n",
    "score(true_value, prediction)"
   ]
  },
  {
   "cell_type": "code",
   "execution_count": 54,
   "metadata": {},
   "outputs": [
    {
     "data": {
      "application/vnd.jupyter.widget-view+json": {
       "model_id": "7ee250d69f7e4ce1893758f2e10aa158",
       "version_major": 2,
       "version_minor": 0
      },
      "text/plain": [
       "  0%|          | 0/289148 [00:00<?, ?it/s]"
      ]
     },
     "metadata": {},
     "output_type": "display_data"
    },
    {
     "name": "stdout",
     "output_type": "stream",
     "text": [
      "[ACCURACY]     : 0.212\n",
      "[PRECISION]    : 0.213\n",
      "[RECALL]       : 0.212\n",
      "[F1-SCORE]     : 0.209\n"
     ]
    }
   ],
   "source": [
    "predictions = sc_ques.progress_apply(lambda row: predict(row), axis=1)\n",
    "predictions\n",
    "true_values = sc_ques['ans']\n",
    "score(true_values, predictions)"
   ]
  },
  {
   "cell_type": "code",
   "execution_count": 55,
   "metadata": {},
   "outputs": [
    {
     "data": {
      "text/plain": [
       "{'accuracy_score': 0.21190878027861165,\n",
       " 'precision_score': 0.21276775394056952,\n",
       " 'recall_score': 0.21190878027861165,\n",
       " 'f1_score': 0.2091596726590534}"
      ]
     },
     "execution_count": 55,
     "metadata": {},
     "output_type": "execute_result"
    }
   ],
   "source": [
    "sc_ques_metrics = record_model_metrics_as_json(true_values, predictions)\n",
    "sc_ques_metrics"
   ]
  },
  {
   "cell_type": "code",
   "execution_count": 56,
   "metadata": {},
   "outputs": [
    {
     "name": "stdout",
     "output_type": "stream",
     "text": [
      "              precision    recall  f1-score   support\n",
      "\n",
      "           a       0.21      0.31      0.25     70647\n",
      "           b       0.23      0.20      0.21     84960\n",
      "           c       0.22      0.18      0.20     82454\n",
      "           d       0.16      0.15      0.15     51087\n",
      "\n",
      "    accuracy                           0.21    289148\n",
      "   macro avg       0.21      0.21      0.21    289148\n",
      "weighted avg       0.21      0.21      0.21    289148\n",
      "\n"
     ]
    }
   ],
   "source": [
    "print(classification_report(true_values, predictions))"
   ]
  },
  {
   "cell_type": "code",
   "execution_count": 57,
   "metadata": {},
   "outputs": [
    {
     "data": {
      "text/plain": [
       "<sklearn.metrics._plot.confusion_matrix.ConfusionMatrixDisplay at 0x10ed63b5960>"
      ]
     },
     "execution_count": 57,
     "metadata": {},
     "output_type": "execute_result"
    },
    {
     "data": {
      "image/png": "[encoded data removed]",
      "text/plain": [
       "<Figure size 800x600 with 2 Axes>"
      ]
     },
     "metadata": {},
     "output_type": "display_data"
    }
   ],
   "source": [
    "conf = confusion_matrix(true_values, predictions)\n",
    "fig, ax = plt.subplots(figsize=(8,6), dpi=100)\n",
    "display = ConfusionMatrixDisplay(conf, display_labels=['a', 'b', 'c', 'd'])\n",
    "ax.set(title='Confusion Matrix for SAT sentence completion')\n",
    "display.plot(ax=ax)"
   ]
  },
  {
   "attachments": {},
   "cell_type": "markdown",
   "metadata": {},
   "source": [
    "## Store the most recent run of training metrics as a pickle file"
   ]
  },
  {
   "cell_type": "code",
   "execution_count": 58,
   "metadata": {},
   "outputs": [
    {
     "name": "stdout",
     "output_type": "stream",
     "text": [
      "Saved freq_dist to file metrics.pkl\n"
     ]
    }
   ],
   "source": [
    "metrics = {\"sat\": sat_metrics, \"sc_ques\": sc_ques_metrics}\n",
    "to_pickle(filename=\"metrics.pkl\", model=metrics)"
   ]
  },
  {
   "attachments": {},
   "cell_type": "markdown",
   "metadata": {},
   "source": [
    "## TODO:\n",
    "- write up the readme with dependencies\n",
    "- write up a how to run\n",
    "- write up how to use.\n",
    "- pickle the model that we need. This notebook is only for training the model basically\n",
    "- Need to write up a python script that allows us to load the model (from the git repo so nobody needs to download it) and will suppport sentence completion as well as sentence writing.\n",
    "- do not want to need to download the csv's either.\n",
    "- Needs to be by Wednesday.\n",
    "- Play with removing punctuation during cleaning.\n",
    "- number to word conversion (look at \"ozone contains _____ oxygen atoms\")\n",
    "\n",
    "## Final Presentation\n",
    "- aimed towards our peers\n",
    "- need functioning copy of final project\n",
    "- what it does and how we did it\n",
    "- how we chose data\n",
    "- what we did to the data\n",
    "- how we trained the model\n",
    "- give or take 10 min long including demonstration\n",
    "- 12 groups.\n",
    "- can switch to giving presentations during the last week of class."
   ]
  },
  {
   "cell_type": "code",
   "execution_count": null,
   "metadata": {},
   "outputs": [],
   "source": []
  }
 ],
 "metadata": {
  "kernelspec": {
   "display_name": "Python 3 (ipykernel)",
   "language": "python",
   "name": "python3"
  },
  "language_info": {
   "codemirror_mode": {
    "name": "ipython",
    "version": 3
   },
   "file_extension": ".py",
   "mimetype": "text/x-python",
   "name": "python",
   "nbconvert_exporter": "python",
   "pygments_lexer": "ipython3",
   "version": "3.10.10"
  }
 },
 "nbformat": 4,
 "nbformat_minor": 2
}
